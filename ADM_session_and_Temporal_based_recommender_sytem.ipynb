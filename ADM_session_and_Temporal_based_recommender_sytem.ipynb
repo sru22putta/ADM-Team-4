{
  "cells": [
    {
      "cell_type": "code",
      "execution_count": null,
      "id": "c87b79e8",
      "metadata": {
        "id": "c87b79e8"
      },
      "outputs": [],
      "source": [
        "import numpy as np\n",
        "import pandas as pd\n",
        "import matplotlib.pyplot as plt"
      ]
    },
    {
      "cell_type": "markdown",
      "id": "68fbe56c",
      "metadata": {
        "id": "68fbe56c"
      },
      "source": [
        "# Music Dataset"
      ]
    },
    {
      "cell_type": "code",
      "execution_count": null,
      "id": "ab8c35b7",
      "metadata": {
        "id": "ab8c35b7"
      },
      "outputs": [],
      "source": [
        "music = pd.read_csv(\"/content/drive/MyDrive/adm/music.csv\")"
      ]
    },
    {
      "cell_type": "code",
      "execution_count": null,
      "id": "7dbd1586",
      "metadata": {
        "colab": {
          "base_uri": "https://localhost:8080/"
        },
        "id": "7dbd1586",
        "outputId": "bb690deb-95d5-4a8f-e790-83eeed7c0e24"
      },
      "outputs": [
        {
          "output_type": "execute_result",
          "data": {
            "text/plain": [
              "(50683, 19)"
            ]
          },
          "metadata": {},
          "execution_count": 3
        }
      ],
      "source": [
        "music.shape"
      ]
    },
    {
      "cell_type": "code",
      "execution_count": null,
      "id": "eb866d69",
      "metadata": {
        "colab": {
          "base_uri": "https://localhost:8080/",
          "height": 469
        },
        "id": "eb866d69",
        "outputId": "670ef005-9853-4fb1-fa38-68d48b61517d"
      },
      "outputs": [
        {
          "output_type": "execute_result",
          "data": {
            "text/plain": [
              "   Unnamed: 0            track_id             name           artist  \\\n",
              "0           0  TRIOREW128F424EAF0   Mr. Brightside      The Killers   \n",
              "1           1  TRRIVDJ128F429B0E8       Wonderwall            Oasis   \n",
              "2           2  TROUVHL128F426C441  Come as You Are          Nirvana   \n",
              "3           3  TRUEIND128F93038C4      Take Me Out  Franz Ferdinand   \n",
              "4           4  TRLNZBD128F935E4D8            Creep        Radiohead   \n",
              "\n",
              "                                                tags genre  year  duration_ms  \\\n",
              "0  rock, alternative, indie, alternative_rock, in...   NaN  2004       222200   \n",
              "1  rock, alternative, indie, pop, alternative_roc...   NaN  2006       258613   \n",
              "2   rock, alternative, alternative_rock, 90s, grunge   RnB  1991       218920   \n",
              "3  rock, alternative, indie, alternative_rock, in...   NaN  2004       237026   \n",
              "4  rock, alternative, indie, alternative_rock, in...   RnB  2008       238640   \n",
              "\n",
              "   danceability  energy  key  loudness  mode  speechiness  acousticness  \\\n",
              "0         0.355   0.918    1    -4.360     1       0.0746      0.001190   \n",
              "1         0.409   0.892    2    -4.373     1       0.0336      0.000807   \n",
              "2         0.508   0.826    4    -5.783     0       0.0400      0.000175   \n",
              "3         0.279   0.664    9    -8.851     1       0.0371      0.000389   \n",
              "4         0.515   0.430    7    -9.935     1       0.0369      0.010200   \n",
              "\n",
              "   instrumentalness  liveness  valence    tempo  \n",
              "0          0.000000    0.0971    0.240  148.114  \n",
              "1          0.000000    0.2070    0.651  174.426  \n",
              "2          0.000459    0.0878    0.543  120.012  \n",
              "3          0.000655    0.1330    0.490  104.560  \n",
              "4          0.000141    0.1290    0.104   91.841  "
            ],
            "text/html": [
              "\n",
              "  <div id=\"df-b57ffb5f-ba9d-48e5-8d4e-593df0824b62\" class=\"colab-df-container\">\n",
              "    <div>\n",
              "<style scoped>\n",
              "    .dataframe tbody tr th:only-of-type {\n",
              "        vertical-align: middle;\n",
              "    }\n",
              "\n",
              "    .dataframe tbody tr th {\n",
              "        vertical-align: top;\n",
              "    }\n",
              "\n",
              "    .dataframe thead th {\n",
              "        text-align: right;\n",
              "    }\n",
              "</style>\n",
              "<table border=\"1\" class=\"dataframe\">\n",
              "  <thead>\n",
              "    <tr style=\"text-align: right;\">\n",
              "      <th></th>\n",
              "      <th>Unnamed: 0</th>\n",
              "      <th>track_id</th>\n",
              "      <th>name</th>\n",
              "      <th>artist</th>\n",
              "      <th>tags</th>\n",
              "      <th>genre</th>\n",
              "      <th>year</th>\n",
              "      <th>duration_ms</th>\n",
              "      <th>danceability</th>\n",
              "      <th>energy</th>\n",
              "      <th>key</th>\n",
              "      <th>loudness</th>\n",
              "      <th>mode</th>\n",
              "      <th>speechiness</th>\n",
              "      <th>acousticness</th>\n",
              "      <th>instrumentalness</th>\n",
              "      <th>liveness</th>\n",
              "      <th>valence</th>\n",
              "      <th>tempo</th>\n",
              "    </tr>\n",
              "  </thead>\n",
              "  <tbody>\n",
              "    <tr>\n",
              "      <th>0</th>\n",
              "      <td>0</td>\n",
              "      <td>TRIOREW128F424EAF0</td>\n",
              "      <td>Mr. Brightside</td>\n",
              "      <td>The Killers</td>\n",
              "      <td>rock, alternative, indie, alternative_rock, in...</td>\n",
              "      <td>NaN</td>\n",
              "      <td>2004</td>\n",
              "      <td>222200</td>\n",
              "      <td>0.355</td>\n",
              "      <td>0.918</td>\n",
              "      <td>1</td>\n",
              "      <td>-4.360</td>\n",
              "      <td>1</td>\n",
              "      <td>0.0746</td>\n",
              "      <td>0.001190</td>\n",
              "      <td>0.000000</td>\n",
              "      <td>0.0971</td>\n",
              "      <td>0.240</td>\n",
              "      <td>148.114</td>\n",
              "    </tr>\n",
              "    <tr>\n",
              "      <th>1</th>\n",
              "      <td>1</td>\n",
              "      <td>TRRIVDJ128F429B0E8</td>\n",
              "      <td>Wonderwall</td>\n",
              "      <td>Oasis</td>\n",
              "      <td>rock, alternative, indie, pop, alternative_roc...</td>\n",
              "      <td>NaN</td>\n",
              "      <td>2006</td>\n",
              "      <td>258613</td>\n",
              "      <td>0.409</td>\n",
              "      <td>0.892</td>\n",
              "      <td>2</td>\n",
              "      <td>-4.373</td>\n",
              "      <td>1</td>\n",
              "      <td>0.0336</td>\n",
              "      <td>0.000807</td>\n",
              "      <td>0.000000</td>\n",
              "      <td>0.2070</td>\n",
              "      <td>0.651</td>\n",
              "      <td>174.426</td>\n",
              "    </tr>\n",
              "    <tr>\n",
              "      <th>2</th>\n",
              "      <td>2</td>\n",
              "      <td>TROUVHL128F426C441</td>\n",
              "      <td>Come as You Are</td>\n",
              "      <td>Nirvana</td>\n",
              "      <td>rock, alternative, alternative_rock, 90s, grunge</td>\n",
              "      <td>RnB</td>\n",
              "      <td>1991</td>\n",
              "      <td>218920</td>\n",
              "      <td>0.508</td>\n",
              "      <td>0.826</td>\n",
              "      <td>4</td>\n",
              "      <td>-5.783</td>\n",
              "      <td>0</td>\n",
              "      <td>0.0400</td>\n",
              "      <td>0.000175</td>\n",
              "      <td>0.000459</td>\n",
              "      <td>0.0878</td>\n",
              "      <td>0.543</td>\n",
              "      <td>120.012</td>\n",
              "    </tr>\n",
              "    <tr>\n",
              "      <th>3</th>\n",
              "      <td>3</td>\n",
              "      <td>TRUEIND128F93038C4</td>\n",
              "      <td>Take Me Out</td>\n",
              "      <td>Franz Ferdinand</td>\n",
              "      <td>rock, alternative, indie, alternative_rock, in...</td>\n",
              "      <td>NaN</td>\n",
              "      <td>2004</td>\n",
              "      <td>237026</td>\n",
              "      <td>0.279</td>\n",
              "      <td>0.664</td>\n",
              "      <td>9</td>\n",
              "      <td>-8.851</td>\n",
              "      <td>1</td>\n",
              "      <td>0.0371</td>\n",
              "      <td>0.000389</td>\n",
              "      <td>0.000655</td>\n",
              "      <td>0.1330</td>\n",
              "      <td>0.490</td>\n",
              "      <td>104.560</td>\n",
              "    </tr>\n",
              "    <tr>\n",
              "      <th>4</th>\n",
              "      <td>4</td>\n",
              "      <td>TRLNZBD128F935E4D8</td>\n",
              "      <td>Creep</td>\n",
              "      <td>Radiohead</td>\n",
              "      <td>rock, alternative, indie, alternative_rock, in...</td>\n",
              "      <td>RnB</td>\n",
              "      <td>2008</td>\n",
              "      <td>238640</td>\n",
              "      <td>0.515</td>\n",
              "      <td>0.430</td>\n",
              "      <td>7</td>\n",
              "      <td>-9.935</td>\n",
              "      <td>1</td>\n",
              "      <td>0.0369</td>\n",
              "      <td>0.010200</td>\n",
              "      <td>0.000141</td>\n",
              "      <td>0.1290</td>\n",
              "      <td>0.104</td>\n",
              "      <td>91.841</td>\n",
              "    </tr>\n",
              "  </tbody>\n",
              "</table>\n",
              "</div>\n",
              "    <div class=\"colab-df-buttons\">\n",
              "\n",
              "  <div class=\"colab-df-container\">\n",
              "    <button class=\"colab-df-convert\" onclick=\"convertToInteractive('df-b57ffb5f-ba9d-48e5-8d4e-593df0824b62')\"\n",
              "            title=\"Convert this dataframe to an interactive table.\"\n",
              "            style=\"display:none;\">\n",
              "\n",
              "  <svg xmlns=\"http://www.w3.org/2000/svg\" height=\"24px\" viewBox=\"0 -960 960 960\">\n",
              "    <path d=\"M120-120v-720h720v720H120Zm60-500h600v-160H180v160Zm220 220h160v-160H400v160Zm0 220h160v-160H400v160ZM180-400h160v-160H180v160Zm440 0h160v-160H620v160ZM180-180h160v-160H180v160Zm440 0h160v-160H620v160Z\"/>\n",
              "  </svg>\n",
              "    </button>\n",
              "\n",
              "  <style>\n",
              "    .colab-df-container {\n",
              "      display:flex;\n",
              "      gap: 12px;\n",
              "    }\n",
              "\n",
              "    .colab-df-convert {\n",
              "      background-color: #E8F0FE;\n",
              "      border: none;\n",
              "      border-radius: 50%;\n",
              "      cursor: pointer;\n",
              "      display: none;\n",
              "      fill: #1967D2;\n",
              "      height: 32px;\n",
              "      padding: 0 0 0 0;\n",
              "      width: 32px;\n",
              "    }\n",
              "\n",
              "    .colab-df-convert:hover {\n",
              "      background-color: #E2EBFA;\n",
              "      box-shadow: 0px 1px 2px rgba(60, 64, 67, 0.3), 0px 1px 3px 1px rgba(60, 64, 67, 0.15);\n",
              "      fill: #174EA6;\n",
              "    }\n",
              "\n",
              "    .colab-df-buttons div {\n",
              "      margin-bottom: 4px;\n",
              "    }\n",
              "\n",
              "    [theme=dark] .colab-df-convert {\n",
              "      background-color: #3B4455;\n",
              "      fill: #D2E3FC;\n",
              "    }\n",
              "\n",
              "    [theme=dark] .colab-df-convert:hover {\n",
              "      background-color: #434B5C;\n",
              "      box-shadow: 0px 1px 3px 1px rgba(0, 0, 0, 0.15);\n",
              "      filter: drop-shadow(0px 1px 2px rgba(0, 0, 0, 0.3));\n",
              "      fill: #FFFFFF;\n",
              "    }\n",
              "  </style>\n",
              "\n",
              "    <script>\n",
              "      const buttonEl =\n",
              "        document.querySelector('#df-b57ffb5f-ba9d-48e5-8d4e-593df0824b62 button.colab-df-convert');\n",
              "      buttonEl.style.display =\n",
              "        google.colab.kernel.accessAllowed ? 'block' : 'none';\n",
              "\n",
              "      async function convertToInteractive(key) {\n",
              "        const element = document.querySelector('#df-b57ffb5f-ba9d-48e5-8d4e-593df0824b62');\n",
              "        const dataTable =\n",
              "          await google.colab.kernel.invokeFunction('convertToInteractive',\n",
              "                                                    [key], {});\n",
              "        if (!dataTable) return;\n",
              "\n",
              "        const docLinkHtml = 'Like what you see? Visit the ' +\n",
              "          '<a target=\"_blank\" href=https://colab.research.google.com/notebooks/data_table.ipynb>data table notebook</a>'\n",
              "          + ' to learn more about interactive tables.';\n",
              "        element.innerHTML = '';\n",
              "        dataTable['output_type'] = 'display_data';\n",
              "        await google.colab.output.renderOutput(dataTable, element);\n",
              "        const docLink = document.createElement('div');\n",
              "        docLink.innerHTML = docLinkHtml;\n",
              "        element.appendChild(docLink);\n",
              "      }\n",
              "    </script>\n",
              "  </div>\n",
              "\n",
              "\n",
              "<div id=\"df-8858b946-83d5-4656-9281-2a86115917f8\">\n",
              "  <button class=\"colab-df-quickchart\" onclick=\"quickchart('df-8858b946-83d5-4656-9281-2a86115917f8')\"\n",
              "            title=\"Suggest charts\"\n",
              "            style=\"display:none;\">\n",
              "\n",
              "<svg xmlns=\"http://www.w3.org/2000/svg\" height=\"24px\"viewBox=\"0 0 24 24\"\n",
              "     width=\"24px\">\n",
              "    <g>\n",
              "        <path d=\"M19 3H5c-1.1 0-2 .9-2 2v14c0 1.1.9 2 2 2h14c1.1 0 2-.9 2-2V5c0-1.1-.9-2-2-2zM9 17H7v-7h2v7zm4 0h-2V7h2v10zm4 0h-2v-4h2v4z\"/>\n",
              "    </g>\n",
              "</svg>\n",
              "  </button>\n",
              "\n",
              "<style>\n",
              "  .colab-df-quickchart {\n",
              "      --bg-color: #E8F0FE;\n",
              "      --fill-color: #1967D2;\n",
              "      --hover-bg-color: #E2EBFA;\n",
              "      --hover-fill-color: #174EA6;\n",
              "      --disabled-fill-color: #AAA;\n",
              "      --disabled-bg-color: #DDD;\n",
              "  }\n",
              "\n",
              "  [theme=dark] .colab-df-quickchart {\n",
              "      --bg-color: #3B4455;\n",
              "      --fill-color: #D2E3FC;\n",
              "      --hover-bg-color: #434B5C;\n",
              "      --hover-fill-color: #FFFFFF;\n",
              "      --disabled-bg-color: #3B4455;\n",
              "      --disabled-fill-color: #666;\n",
              "  }\n",
              "\n",
              "  .colab-df-quickchart {\n",
              "    background-color: var(--bg-color);\n",
              "    border: none;\n",
              "    border-radius: 50%;\n",
              "    cursor: pointer;\n",
              "    display: none;\n",
              "    fill: var(--fill-color);\n",
              "    height: 32px;\n",
              "    padding: 0;\n",
              "    width: 32px;\n",
              "  }\n",
              "\n",
              "  .colab-df-quickchart:hover {\n",
              "    background-color: var(--hover-bg-color);\n",
              "    box-shadow: 0 1px 2px rgba(60, 64, 67, 0.3), 0 1px 3px 1px rgba(60, 64, 67, 0.15);\n",
              "    fill: var(--button-hover-fill-color);\n",
              "  }\n",
              "\n",
              "  .colab-df-quickchart-complete:disabled,\n",
              "  .colab-df-quickchart-complete:disabled:hover {\n",
              "    background-color: var(--disabled-bg-color);\n",
              "    fill: var(--disabled-fill-color);\n",
              "    box-shadow: none;\n",
              "  }\n",
              "\n",
              "  .colab-df-spinner {\n",
              "    border: 2px solid var(--fill-color);\n",
              "    border-color: transparent;\n",
              "    border-bottom-color: var(--fill-color);\n",
              "    animation:\n",
              "      spin 1s steps(1) infinite;\n",
              "  }\n",
              "\n",
              "  @keyframes spin {\n",
              "    0% {\n",
              "      border-color: transparent;\n",
              "      border-bottom-color: var(--fill-color);\n",
              "      border-left-color: var(--fill-color);\n",
              "    }\n",
              "    20% {\n",
              "      border-color: transparent;\n",
              "      border-left-color: var(--fill-color);\n",
              "      border-top-color: var(--fill-color);\n",
              "    }\n",
              "    30% {\n",
              "      border-color: transparent;\n",
              "      border-left-color: var(--fill-color);\n",
              "      border-top-color: var(--fill-color);\n",
              "      border-right-color: var(--fill-color);\n",
              "    }\n",
              "    40% {\n",
              "      border-color: transparent;\n",
              "      border-right-color: var(--fill-color);\n",
              "      border-top-color: var(--fill-color);\n",
              "    }\n",
              "    60% {\n",
              "      border-color: transparent;\n",
              "      border-right-color: var(--fill-color);\n",
              "    }\n",
              "    80% {\n",
              "      border-color: transparent;\n",
              "      border-right-color: var(--fill-color);\n",
              "      border-bottom-color: var(--fill-color);\n",
              "    }\n",
              "    90% {\n",
              "      border-color: transparent;\n",
              "      border-bottom-color: var(--fill-color);\n",
              "    }\n",
              "  }\n",
              "</style>\n",
              "\n",
              "  <script>\n",
              "    async function quickchart(key) {\n",
              "      const quickchartButtonEl =\n",
              "        document.querySelector('#' + key + ' button');\n",
              "      quickchartButtonEl.disabled = true;  // To prevent multiple clicks.\n",
              "      quickchartButtonEl.classList.add('colab-df-spinner');\n",
              "      try {\n",
              "        const charts = await google.colab.kernel.invokeFunction(\n",
              "            'suggestCharts', [key], {});\n",
              "      } catch (error) {\n",
              "        console.error('Error during call to suggestCharts:', error);\n",
              "      }\n",
              "      quickchartButtonEl.classList.remove('colab-df-spinner');\n",
              "      quickchartButtonEl.classList.add('colab-df-quickchart-complete');\n",
              "    }\n",
              "    (() => {\n",
              "      let quickchartButtonEl =\n",
              "        document.querySelector('#df-8858b946-83d5-4656-9281-2a86115917f8 button');\n",
              "      quickchartButtonEl.style.display =\n",
              "        google.colab.kernel.accessAllowed ? 'block' : 'none';\n",
              "    })();\n",
              "  </script>\n",
              "</div>\n",
              "    </div>\n",
              "  </div>\n"
            ]
          },
          "metadata": {},
          "execution_count": 4
        }
      ],
      "source": [
        "music.head()"
      ]
    },
    {
      "cell_type": "code",
      "execution_count": null,
      "id": "301e67b8",
      "metadata": {
        "colab": {
          "base_uri": "https://localhost:8080/"
        },
        "id": "301e67b8",
        "outputId": "14a31f1f-3ea5-4458-97ab-3dde2ec714f6"
      },
      "outputs": [
        {
          "output_type": "stream",
          "name": "stdout",
          "text": [
            "Unique values in 'Unnamed: 0':\n",
            "Total unique values in 'Unnamed: 0': 50683\n",
            "\n",
            "Unique values in 'track_id':\n",
            "Total unique values in 'track_id': 50683\n",
            "\n",
            "Unique values in 'name':\n",
            "Total unique values in 'name': 50683\n",
            "\n",
            "Unique values in 'artist':\n",
            "Total unique values in 'artist': 8317\n",
            "\n",
            "Unique values in 'tags':\n",
            "Total unique values in 'tags': 20058\n",
            "\n",
            "Unique values in 'genre':\n",
            "Total unique values in 'genre': 16\n",
            "\n",
            "Unique values in 'year':\n",
            "Total unique values in 'year': 75\n",
            "\n",
            "Unique values in 'duration_ms':\n",
            "Total unique values in 'duration_ms': 24202\n",
            "\n",
            "Unique values in 'danceability':\n",
            "Total unique values in 'danceability': 1086\n",
            "\n",
            "Unique values in 'energy':\n",
            "Total unique values in 'energy': 1600\n",
            "\n",
            "Unique values in 'key':\n",
            "Total unique values in 'key': 12\n",
            "\n",
            "Unique values in 'loudness':\n",
            "Total unique values in 'loudness': 15316\n",
            "\n",
            "Unique values in 'mode':\n",
            "Total unique values in 'mode': 2\n",
            "\n",
            "Unique values in 'speechiness':\n",
            "Total unique values in 'speechiness': 1300\n",
            "\n",
            "Unique values in 'acousticness':\n",
            "Total unique values in 'acousticness': 5193\n",
            "\n",
            "Unique values in 'instrumentalness':\n",
            "Total unique values in 'instrumentalness': 5245\n",
            "\n",
            "Unique values in 'liveness':\n",
            "Total unique values in 'liveness': 1696\n",
            "\n",
            "Unique values in 'valence':\n",
            "Total unique values in 'valence': 1649\n",
            "\n",
            "Unique values in 'tempo':\n",
            "Total unique values in 'tempo': 36157\n",
            "\n"
          ]
        }
      ],
      "source": [
        "\n",
        "for column in music.columns:\n",
        "    unique_values = music[column].unique()\n",
        "    print(f\"Unique values in '{column}':\")\n",
        "    print(f\"Total unique values in '{column}': {len(unique_values)}\\n\")\n"
      ]
    },
    {
      "cell_type": "code",
      "execution_count": null,
      "id": "b6f04087",
      "metadata": {
        "colab": {
          "base_uri": "https://localhost:8080/"
        },
        "id": "b6f04087",
        "outputId": "ec4eb7ed-c4ea-45cb-e202-8ded811ebfdd"
      },
      "outputs": [
        {
          "output_type": "stream",
          "name": "stdout",
          "text": [
            "Null value counts in each column:\n",
            "Unnamed: 0              0\n",
            "track_id                0\n",
            "name                    0\n",
            "artist                  0\n",
            "tags                 1127\n",
            "genre               28335\n",
            "year                    0\n",
            "duration_ms             0\n",
            "danceability            0\n",
            "energy                  0\n",
            "key                     0\n",
            "loudness                0\n",
            "mode                    0\n",
            "speechiness             0\n",
            "acousticness            0\n",
            "instrumentalness        0\n",
            "liveness                0\n",
            "valence                 0\n",
            "tempo                   0\n",
            "dtype: int64\n"
          ]
        }
      ],
      "source": [
        "#checking for null values in the dataset\n",
        "\n",
        "null_counts = music.isnull().sum()\n",
        "\n",
        "print(\"Null value counts in each column:\")\n",
        "print(null_counts)\n"
      ]
    },
    {
      "cell_type": "code",
      "execution_count": null,
      "id": "6f1057a1",
      "metadata": {
        "colab": {
          "base_uri": "https://localhost:8080/"
        },
        "id": "6f1057a1",
        "outputId": "aa622594-a4c7-4fef-f97a-d01b473e1dfb"
      },
      "outputs": [
        {
          "output_type": "stream",
          "name": "stdout",
          "text": [
            "nan\n",
            "RnB\n",
            "Rock\n",
            "Pop\n",
            "Metal\n",
            "Electronic\n",
            "Jazz\n",
            "Punk\n",
            "Country\n",
            "Folk\n",
            "Reggae\n",
            "Rap\n",
            "Blues\n",
            "New Age\n",
            "Latin\n",
            "World\n"
          ]
        }
      ],
      "source": [
        "# Print the unique values in the \"genre\" column\n",
        "\n",
        "unique_genres = music['genre'].unique()\n",
        "for genre in unique_genres:\n",
        "    print(genre)"
      ]
    },
    {
      "cell_type": "code",
      "execution_count": null,
      "id": "f6de2d3f",
      "metadata": {
        "id": "f6de2d3f"
      },
      "outputs": [],
      "source": [
        "music_df = music"
      ]
    },
    {
      "cell_type": "markdown",
      "id": "d9e722bb",
      "metadata": {
        "id": "d9e722bb"
      },
      "source": [
        "# User History"
      ]
    },
    {
      "cell_type": "code",
      "execution_count": null,
      "id": "0819bc81",
      "metadata": {
        "id": "0819bc81"
      },
      "outputs": [],
      "source": [
        "user_history = pd.read_csv(\"/content/drive/MyDrive/adm/User Listening History.csv\")"
      ]
    },
    {
      "cell_type": "code",
      "execution_count": null,
      "id": "21ff75f5",
      "metadata": {
        "colab": {
          "base_uri": "https://localhost:8080/"
        },
        "id": "21ff75f5",
        "outputId": "7508eaf3-cd19-4e23-d018-9ccd8463100b"
      },
      "outputs": [
        {
          "output_type": "execute_result",
          "data": {
            "text/plain": [
              "(9711301, 3)"
            ]
          },
          "metadata": {},
          "execution_count": 10
        }
      ],
      "source": [
        "user_history.shape"
      ]
    },
    {
      "cell_type": "code",
      "execution_count": null,
      "id": "4afce61b",
      "metadata": {
        "colab": {
          "base_uri": "https://localhost:8080/"
        },
        "id": "4afce61b",
        "outputId": "a9273d9f-a9cb-4abe-c7ab-eccf12e979bc"
      },
      "outputs": [
        {
          "output_type": "stream",
          "name": "stdout",
          "text": [
            "track_id\n",
            "user_id\n",
            "playcount\n"
          ]
        }
      ],
      "source": [
        "column_names = user_history.columns\n",
        "\n",
        "for column in column_names:\n",
        "    print(column)"
      ]
    },
    {
      "cell_type": "code",
      "execution_count": null,
      "id": "665bc509",
      "metadata": {
        "colab": {
          "base_uri": "https://localhost:8080/"
        },
        "id": "665bc509",
        "outputId": "966e8e5d-474a-48c0-bcfb-839d93ece181"
      },
      "outputs": [
        {
          "output_type": "stream",
          "name": "stdout",
          "text": [
            "Unique values in 'track_id':\n",
            "Total unique values in 'track_id': 30459\n",
            "\n",
            "Unique values in 'user_id':\n",
            "Total unique values in 'user_id': 962037\n",
            "\n",
            "Unique values in 'playcount':\n",
            "Total unique values in 'playcount': 430\n",
            "\n"
          ]
        }
      ],
      "source": [
        "\n",
        "for column in user_history.columns:\n",
        "    unique_values = user_history[column].unique()\n",
        "    print(f\"Unique values in '{column}':\")\n",
        "    print(f\"Total unique values in '{column}': {len(unique_values)}\\n\")\n"
      ]
    },
    {
      "cell_type": "code",
      "execution_count": null,
      "id": "1d3dcb89",
      "metadata": {
        "colab": {
          "base_uri": "https://localhost:8080/"
        },
        "id": "1d3dcb89",
        "outputId": "6e221ef4-cba2-4474-fcf3-03846016b1f9"
      },
      "outputs": [
        {
          "output_type": "stream",
          "name": "stdout",
          "text": [
            "Null value counts in each column:\n",
            "track_id     0\n",
            "user_id      0\n",
            "playcount    0\n",
            "dtype: int64\n"
          ]
        }
      ],
      "source": [
        "#checking for null values in the dataset\n",
        "\n",
        "null_counts = user_history.isnull().sum()\n",
        "\n",
        "print(\"Null value counts in each column:\")\n",
        "print(null_counts)\n"
      ]
    },
    {
      "cell_type": "code",
      "execution_count": null,
      "id": "17f1ffed",
      "metadata": {
        "colab": {
          "base_uri": "https://localhost:8080/",
          "height": 206
        },
        "id": "17f1ffed",
        "outputId": "5473eec1-55f9-4eb2-9aa5-bf480936bdeb"
      },
      "outputs": [
        {
          "output_type": "execute_result",
          "data": {
            "text/plain": [
              "             track_id                                   user_id  playcount\n",
              "0  TRIRLYL128F42539D1  b80344d063b5ccb3212f76538f3d9e43d87dca9e          1\n",
              "1  TRFUPBA128F934F7E1  b80344d063b5ccb3212f76538f3d9e43d87dca9e          1\n",
              "2  TRLQPQJ128F42AA94F  b80344d063b5ccb3212f76538f3d9e43d87dca9e          1\n",
              "3  TRTUCUY128F92E1D24  b80344d063b5ccb3212f76538f3d9e43d87dca9e          1\n",
              "4  TRHDDQG12903CB53EE  b80344d063b5ccb3212f76538f3d9e43d87dca9e          1"
            ],
            "text/html": [
              "\n",
              "  <div id=\"df-b61c89fa-077e-47cb-8e82-da747c7a0a9e\" class=\"colab-df-container\">\n",
              "    <div>\n",
              "<style scoped>\n",
              "    .dataframe tbody tr th:only-of-type {\n",
              "        vertical-align: middle;\n",
              "    }\n",
              "\n",
              "    .dataframe tbody tr th {\n",
              "        vertical-align: top;\n",
              "    }\n",
              "\n",
              "    .dataframe thead th {\n",
              "        text-align: right;\n",
              "    }\n",
              "</style>\n",
              "<table border=\"1\" class=\"dataframe\">\n",
              "  <thead>\n",
              "    <tr style=\"text-align: right;\">\n",
              "      <th></th>\n",
              "      <th>track_id</th>\n",
              "      <th>user_id</th>\n",
              "      <th>playcount</th>\n",
              "    </tr>\n",
              "  </thead>\n",
              "  <tbody>\n",
              "    <tr>\n",
              "      <th>0</th>\n",
              "      <td>TRIRLYL128F42539D1</td>\n",
              "      <td>b80344d063b5ccb3212f76538f3d9e43d87dca9e</td>\n",
              "      <td>1</td>\n",
              "    </tr>\n",
              "    <tr>\n",
              "      <th>1</th>\n",
              "      <td>TRFUPBA128F934F7E1</td>\n",
              "      <td>b80344d063b5ccb3212f76538f3d9e43d87dca9e</td>\n",
              "      <td>1</td>\n",
              "    </tr>\n",
              "    <tr>\n",
              "      <th>2</th>\n",
              "      <td>TRLQPQJ128F42AA94F</td>\n",
              "      <td>b80344d063b5ccb3212f76538f3d9e43d87dca9e</td>\n",
              "      <td>1</td>\n",
              "    </tr>\n",
              "    <tr>\n",
              "      <th>3</th>\n",
              "      <td>TRTUCUY128F92E1D24</td>\n",
              "      <td>b80344d063b5ccb3212f76538f3d9e43d87dca9e</td>\n",
              "      <td>1</td>\n",
              "    </tr>\n",
              "    <tr>\n",
              "      <th>4</th>\n",
              "      <td>TRHDDQG12903CB53EE</td>\n",
              "      <td>b80344d063b5ccb3212f76538f3d9e43d87dca9e</td>\n",
              "      <td>1</td>\n",
              "    </tr>\n",
              "  </tbody>\n",
              "</table>\n",
              "</div>\n",
              "    <div class=\"colab-df-buttons\">\n",
              "\n",
              "  <div class=\"colab-df-container\">\n",
              "    <button class=\"colab-df-convert\" onclick=\"convertToInteractive('df-b61c89fa-077e-47cb-8e82-da747c7a0a9e')\"\n",
              "            title=\"Convert this dataframe to an interactive table.\"\n",
              "            style=\"display:none;\">\n",
              "\n",
              "  <svg xmlns=\"http://www.w3.org/2000/svg\" height=\"24px\" viewBox=\"0 -960 960 960\">\n",
              "    <path d=\"M120-120v-720h720v720H120Zm60-500h600v-160H180v160Zm220 220h160v-160H400v160Zm0 220h160v-160H400v160ZM180-400h160v-160H180v160Zm440 0h160v-160H620v160ZM180-180h160v-160H180v160Zm440 0h160v-160H620v160Z\"/>\n",
              "  </svg>\n",
              "    </button>\n",
              "\n",
              "  <style>\n",
              "    .colab-df-container {\n",
              "      display:flex;\n",
              "      gap: 12px;\n",
              "    }\n",
              "\n",
              "    .colab-df-convert {\n",
              "      background-color: #E8F0FE;\n",
              "      border: none;\n",
              "      border-radius: 50%;\n",
              "      cursor: pointer;\n",
              "      display: none;\n",
              "      fill: #1967D2;\n",
              "      height: 32px;\n",
              "      padding: 0 0 0 0;\n",
              "      width: 32px;\n",
              "    }\n",
              "\n",
              "    .colab-df-convert:hover {\n",
              "      background-color: #E2EBFA;\n",
              "      box-shadow: 0px 1px 2px rgba(60, 64, 67, 0.3), 0px 1px 3px 1px rgba(60, 64, 67, 0.15);\n",
              "      fill: #174EA6;\n",
              "    }\n",
              "\n",
              "    .colab-df-buttons div {\n",
              "      margin-bottom: 4px;\n",
              "    }\n",
              "\n",
              "    [theme=dark] .colab-df-convert {\n",
              "      background-color: #3B4455;\n",
              "      fill: #D2E3FC;\n",
              "    }\n",
              "\n",
              "    [theme=dark] .colab-df-convert:hover {\n",
              "      background-color: #434B5C;\n",
              "      box-shadow: 0px 1px 3px 1px rgba(0, 0, 0, 0.15);\n",
              "      filter: drop-shadow(0px 1px 2px rgba(0, 0, 0, 0.3));\n",
              "      fill: #FFFFFF;\n",
              "    }\n",
              "  </style>\n",
              "\n",
              "    <script>\n",
              "      const buttonEl =\n",
              "        document.querySelector('#df-b61c89fa-077e-47cb-8e82-da747c7a0a9e button.colab-df-convert');\n",
              "      buttonEl.style.display =\n",
              "        google.colab.kernel.accessAllowed ? 'block' : 'none';\n",
              "\n",
              "      async function convertToInteractive(key) {\n",
              "        const element = document.querySelector('#df-b61c89fa-077e-47cb-8e82-da747c7a0a9e');\n",
              "        const dataTable =\n",
              "          await google.colab.kernel.invokeFunction('convertToInteractive',\n",
              "                                                    [key], {});\n",
              "        if (!dataTable) return;\n",
              "\n",
              "        const docLinkHtml = 'Like what you see? Visit the ' +\n",
              "          '<a target=\"_blank\" href=https://colab.research.google.com/notebooks/data_table.ipynb>data table notebook</a>'\n",
              "          + ' to learn more about interactive tables.';\n",
              "        element.innerHTML = '';\n",
              "        dataTable['output_type'] = 'display_data';\n",
              "        await google.colab.output.renderOutput(dataTable, element);\n",
              "        const docLink = document.createElement('div');\n",
              "        docLink.innerHTML = docLinkHtml;\n",
              "        element.appendChild(docLink);\n",
              "      }\n",
              "    </script>\n",
              "  </div>\n",
              "\n",
              "\n",
              "<div id=\"df-a7639342-c7dc-4e18-9f9a-008251fccc6b\">\n",
              "  <button class=\"colab-df-quickchart\" onclick=\"quickchart('df-a7639342-c7dc-4e18-9f9a-008251fccc6b')\"\n",
              "            title=\"Suggest charts\"\n",
              "            style=\"display:none;\">\n",
              "\n",
              "<svg xmlns=\"http://www.w3.org/2000/svg\" height=\"24px\"viewBox=\"0 0 24 24\"\n",
              "     width=\"24px\">\n",
              "    <g>\n",
              "        <path d=\"M19 3H5c-1.1 0-2 .9-2 2v14c0 1.1.9 2 2 2h14c1.1 0 2-.9 2-2V5c0-1.1-.9-2-2-2zM9 17H7v-7h2v7zm4 0h-2V7h2v10zm4 0h-2v-4h2v4z\"/>\n",
              "    </g>\n",
              "</svg>\n",
              "  </button>\n",
              "\n",
              "<style>\n",
              "  .colab-df-quickchart {\n",
              "      --bg-color: #E8F0FE;\n",
              "      --fill-color: #1967D2;\n",
              "      --hover-bg-color: #E2EBFA;\n",
              "      --hover-fill-color: #174EA6;\n",
              "      --disabled-fill-color: #AAA;\n",
              "      --disabled-bg-color: #DDD;\n",
              "  }\n",
              "\n",
              "  [theme=dark] .colab-df-quickchart {\n",
              "      --bg-color: #3B4455;\n",
              "      --fill-color: #D2E3FC;\n",
              "      --hover-bg-color: #434B5C;\n",
              "      --hover-fill-color: #FFFFFF;\n",
              "      --disabled-bg-color: #3B4455;\n",
              "      --disabled-fill-color: #666;\n",
              "  }\n",
              "\n",
              "  .colab-df-quickchart {\n",
              "    background-color: var(--bg-color);\n",
              "    border: none;\n",
              "    border-radius: 50%;\n",
              "    cursor: pointer;\n",
              "    display: none;\n",
              "    fill: var(--fill-color);\n",
              "    height: 32px;\n",
              "    padding: 0;\n",
              "    width: 32px;\n",
              "  }\n",
              "\n",
              "  .colab-df-quickchart:hover {\n",
              "    background-color: var(--hover-bg-color);\n",
              "    box-shadow: 0 1px 2px rgba(60, 64, 67, 0.3), 0 1px 3px 1px rgba(60, 64, 67, 0.15);\n",
              "    fill: var(--button-hover-fill-color);\n",
              "  }\n",
              "\n",
              "  .colab-df-quickchart-complete:disabled,\n",
              "  .colab-df-quickchart-complete:disabled:hover {\n",
              "    background-color: var(--disabled-bg-color);\n",
              "    fill: var(--disabled-fill-color);\n",
              "    box-shadow: none;\n",
              "  }\n",
              "\n",
              "  .colab-df-spinner {\n",
              "    border: 2px solid var(--fill-color);\n",
              "    border-color: transparent;\n",
              "    border-bottom-color: var(--fill-color);\n",
              "    animation:\n",
              "      spin 1s steps(1) infinite;\n",
              "  }\n",
              "\n",
              "  @keyframes spin {\n",
              "    0% {\n",
              "      border-color: transparent;\n",
              "      border-bottom-color: var(--fill-color);\n",
              "      border-left-color: var(--fill-color);\n",
              "    }\n",
              "    20% {\n",
              "      border-color: transparent;\n",
              "      border-left-color: var(--fill-color);\n",
              "      border-top-color: var(--fill-color);\n",
              "    }\n",
              "    30% {\n",
              "      border-color: transparent;\n",
              "      border-left-color: var(--fill-color);\n",
              "      border-top-color: var(--fill-color);\n",
              "      border-right-color: var(--fill-color);\n",
              "    }\n",
              "    40% {\n",
              "      border-color: transparent;\n",
              "      border-right-color: var(--fill-color);\n",
              "      border-top-color: var(--fill-color);\n",
              "    }\n",
              "    60% {\n",
              "      border-color: transparent;\n",
              "      border-right-color: var(--fill-color);\n",
              "    }\n",
              "    80% {\n",
              "      border-color: transparent;\n",
              "      border-right-color: var(--fill-color);\n",
              "      border-bottom-color: var(--fill-color);\n",
              "    }\n",
              "    90% {\n",
              "      border-color: transparent;\n",
              "      border-bottom-color: var(--fill-color);\n",
              "    }\n",
              "  }\n",
              "</style>\n",
              "\n",
              "  <script>\n",
              "    async function quickchart(key) {\n",
              "      const quickchartButtonEl =\n",
              "        document.querySelector('#' + key + ' button');\n",
              "      quickchartButtonEl.disabled = true;  // To prevent multiple clicks.\n",
              "      quickchartButtonEl.classList.add('colab-df-spinner');\n",
              "      try {\n",
              "        const charts = await google.colab.kernel.invokeFunction(\n",
              "            'suggestCharts', [key], {});\n",
              "      } catch (error) {\n",
              "        console.error('Error during call to suggestCharts:', error);\n",
              "      }\n",
              "      quickchartButtonEl.classList.remove('colab-df-spinner');\n",
              "      quickchartButtonEl.classList.add('colab-df-quickchart-complete');\n",
              "    }\n",
              "    (() => {\n",
              "      let quickchartButtonEl =\n",
              "        document.querySelector('#df-a7639342-c7dc-4e18-9f9a-008251fccc6b button');\n",
              "      quickchartButtonEl.style.display =\n",
              "        google.colab.kernel.accessAllowed ? 'block' : 'none';\n",
              "    })();\n",
              "  </script>\n",
              "</div>\n",
              "    </div>\n",
              "  </div>\n"
            ]
          },
          "metadata": {},
          "execution_count": 14
        }
      ],
      "source": [
        "user_history.head()"
      ]
    },
    {
      "cell_type": "code",
      "source": [
        "user_history_df = user_history.sample(n=10000, random_state = 42)"
      ],
      "metadata": {
        "id": "UkS4fedRyMn5"
      },
      "id": "UkS4fedRyMn5",
      "execution_count": null,
      "outputs": []
    },
    {
      "cell_type": "code",
      "execution_count": null,
      "id": "66f4915f",
      "metadata": {
        "colab": {
          "base_uri": "https://localhost:8080/",
          "height": 206
        },
        "id": "66f4915f",
        "outputId": "2ca67a12-76e8-4d53-c64a-60255e5f5dbc"
      },
      "outputs": [
        {
          "output_type": "execute_result",
          "data": {
            "text/plain": [
              "                   track_id                                   user_id  \\\n",
              "2508064  TRNTNZL128F4259856  449bfa756a8e71f501aed4a84250aa1237f0040a   \n",
              "4671124  TRNBMJP128F93433D8  b218f76e5053c281ba233cf43845a285bfc3049f   \n",
              "3094899  TRDYGUV12903CDAF1E  533cbbc0be49822ce40f1d7fce2dc5db2dd377e1   \n",
              "134535   TRUSRFO128F147FC82  9c0e51864b053caeb212fefd0843de3af6a19283   \n",
              "125426   TRITUFI128F147B77A  57255430f4d62c72429c1b3808b64ac1bca08144   \n",
              "\n",
              "         playcount  \n",
              "2508064          6  \n",
              "4671124          1  \n",
              "3094899          1  \n",
              "134535           1  \n",
              "125426           2  "
            ],
            "text/html": [
              "\n",
              "  <div id=\"df-39f4aa5f-cd4e-4c17-a2f2-83e41afe1d77\" class=\"colab-df-container\">\n",
              "    <div>\n",
              "<style scoped>\n",
              "    .dataframe tbody tr th:only-of-type {\n",
              "        vertical-align: middle;\n",
              "    }\n",
              "\n",
              "    .dataframe tbody tr th {\n",
              "        vertical-align: top;\n",
              "    }\n",
              "\n",
              "    .dataframe thead th {\n",
              "        text-align: right;\n",
              "    }\n",
              "</style>\n",
              "<table border=\"1\" class=\"dataframe\">\n",
              "  <thead>\n",
              "    <tr style=\"text-align: right;\">\n",
              "      <th></th>\n",
              "      <th>track_id</th>\n",
              "      <th>user_id</th>\n",
              "      <th>playcount</th>\n",
              "    </tr>\n",
              "  </thead>\n",
              "  <tbody>\n",
              "    <tr>\n",
              "      <th>2508064</th>\n",
              "      <td>TRNTNZL128F4259856</td>\n",
              "      <td>449bfa756a8e71f501aed4a84250aa1237f0040a</td>\n",
              "      <td>6</td>\n",
              "    </tr>\n",
              "    <tr>\n",
              "      <th>4671124</th>\n",
              "      <td>TRNBMJP128F93433D8</td>\n",
              "      <td>b218f76e5053c281ba233cf43845a285bfc3049f</td>\n",
              "      <td>1</td>\n",
              "    </tr>\n",
              "    <tr>\n",
              "      <th>3094899</th>\n",
              "      <td>TRDYGUV12903CDAF1E</td>\n",
              "      <td>533cbbc0be49822ce40f1d7fce2dc5db2dd377e1</td>\n",
              "      <td>1</td>\n",
              "    </tr>\n",
              "    <tr>\n",
              "      <th>134535</th>\n",
              "      <td>TRUSRFO128F147FC82</td>\n",
              "      <td>9c0e51864b053caeb212fefd0843de3af6a19283</td>\n",
              "      <td>1</td>\n",
              "    </tr>\n",
              "    <tr>\n",
              "      <th>125426</th>\n",
              "      <td>TRITUFI128F147B77A</td>\n",
              "      <td>57255430f4d62c72429c1b3808b64ac1bca08144</td>\n",
              "      <td>2</td>\n",
              "    </tr>\n",
              "  </tbody>\n",
              "</table>\n",
              "</div>\n",
              "    <div class=\"colab-df-buttons\">\n",
              "\n",
              "  <div class=\"colab-df-container\">\n",
              "    <button class=\"colab-df-convert\" onclick=\"convertToInteractive('df-39f4aa5f-cd4e-4c17-a2f2-83e41afe1d77')\"\n",
              "            title=\"Convert this dataframe to an interactive table.\"\n",
              "            style=\"display:none;\">\n",
              "\n",
              "  <svg xmlns=\"http://www.w3.org/2000/svg\" height=\"24px\" viewBox=\"0 -960 960 960\">\n",
              "    <path d=\"M120-120v-720h720v720H120Zm60-500h600v-160H180v160Zm220 220h160v-160H400v160Zm0 220h160v-160H400v160ZM180-400h160v-160H180v160Zm440 0h160v-160H620v160ZM180-180h160v-160H180v160Zm440 0h160v-160H620v160Z\"/>\n",
              "  </svg>\n",
              "    </button>\n",
              "\n",
              "  <style>\n",
              "    .colab-df-container {\n",
              "      display:flex;\n",
              "      gap: 12px;\n",
              "    }\n",
              "\n",
              "    .colab-df-convert {\n",
              "      background-color: #E8F0FE;\n",
              "      border: none;\n",
              "      border-radius: 50%;\n",
              "      cursor: pointer;\n",
              "      display: none;\n",
              "      fill: #1967D2;\n",
              "      height: 32px;\n",
              "      padding: 0 0 0 0;\n",
              "      width: 32px;\n",
              "    }\n",
              "\n",
              "    .colab-df-convert:hover {\n",
              "      background-color: #E2EBFA;\n",
              "      box-shadow: 0px 1px 2px rgba(60, 64, 67, 0.3), 0px 1px 3px 1px rgba(60, 64, 67, 0.15);\n",
              "      fill: #174EA6;\n",
              "    }\n",
              "\n",
              "    .colab-df-buttons div {\n",
              "      margin-bottom: 4px;\n",
              "    }\n",
              "\n",
              "    [theme=dark] .colab-df-convert {\n",
              "      background-color: #3B4455;\n",
              "      fill: #D2E3FC;\n",
              "    }\n",
              "\n",
              "    [theme=dark] .colab-df-convert:hover {\n",
              "      background-color: #434B5C;\n",
              "      box-shadow: 0px 1px 3px 1px rgba(0, 0, 0, 0.15);\n",
              "      filter: drop-shadow(0px 1px 2px rgba(0, 0, 0, 0.3));\n",
              "      fill: #FFFFFF;\n",
              "    }\n",
              "  </style>\n",
              "\n",
              "    <script>\n",
              "      const buttonEl =\n",
              "        document.querySelector('#df-39f4aa5f-cd4e-4c17-a2f2-83e41afe1d77 button.colab-df-convert');\n",
              "      buttonEl.style.display =\n",
              "        google.colab.kernel.accessAllowed ? 'block' : 'none';\n",
              "\n",
              "      async function convertToInteractive(key) {\n",
              "        const element = document.querySelector('#df-39f4aa5f-cd4e-4c17-a2f2-83e41afe1d77');\n",
              "        const dataTable =\n",
              "          await google.colab.kernel.invokeFunction('convertToInteractive',\n",
              "                                                    [key], {});\n",
              "        if (!dataTable) return;\n",
              "\n",
              "        const docLinkHtml = 'Like what you see? Visit the ' +\n",
              "          '<a target=\"_blank\" href=https://colab.research.google.com/notebooks/data_table.ipynb>data table notebook</a>'\n",
              "          + ' to learn more about interactive tables.';\n",
              "        element.innerHTML = '';\n",
              "        dataTable['output_type'] = 'display_data';\n",
              "        await google.colab.output.renderOutput(dataTable, element);\n",
              "        const docLink = document.createElement('div');\n",
              "        docLink.innerHTML = docLinkHtml;\n",
              "        element.appendChild(docLink);\n",
              "      }\n",
              "    </script>\n",
              "  </div>\n",
              "\n",
              "\n",
              "<div id=\"df-bff92b67-5873-4478-9540-14fa2b4ba01f\">\n",
              "  <button class=\"colab-df-quickchart\" onclick=\"quickchart('df-bff92b67-5873-4478-9540-14fa2b4ba01f')\"\n",
              "            title=\"Suggest charts\"\n",
              "            style=\"display:none;\">\n",
              "\n",
              "<svg xmlns=\"http://www.w3.org/2000/svg\" height=\"24px\"viewBox=\"0 0 24 24\"\n",
              "     width=\"24px\">\n",
              "    <g>\n",
              "        <path d=\"M19 3H5c-1.1 0-2 .9-2 2v14c0 1.1.9 2 2 2h14c1.1 0 2-.9 2-2V5c0-1.1-.9-2-2-2zM9 17H7v-7h2v7zm4 0h-2V7h2v10zm4 0h-2v-4h2v4z\"/>\n",
              "    </g>\n",
              "</svg>\n",
              "  </button>\n",
              "\n",
              "<style>\n",
              "  .colab-df-quickchart {\n",
              "      --bg-color: #E8F0FE;\n",
              "      --fill-color: #1967D2;\n",
              "      --hover-bg-color: #E2EBFA;\n",
              "      --hover-fill-color: #174EA6;\n",
              "      --disabled-fill-color: #AAA;\n",
              "      --disabled-bg-color: #DDD;\n",
              "  }\n",
              "\n",
              "  [theme=dark] .colab-df-quickchart {\n",
              "      --bg-color: #3B4455;\n",
              "      --fill-color: #D2E3FC;\n",
              "      --hover-bg-color: #434B5C;\n",
              "      --hover-fill-color: #FFFFFF;\n",
              "      --disabled-bg-color: #3B4455;\n",
              "      --disabled-fill-color: #666;\n",
              "  }\n",
              "\n",
              "  .colab-df-quickchart {\n",
              "    background-color: var(--bg-color);\n",
              "    border: none;\n",
              "    border-radius: 50%;\n",
              "    cursor: pointer;\n",
              "    display: none;\n",
              "    fill: var(--fill-color);\n",
              "    height: 32px;\n",
              "    padding: 0;\n",
              "    width: 32px;\n",
              "  }\n",
              "\n",
              "  .colab-df-quickchart:hover {\n",
              "    background-color: var(--hover-bg-color);\n",
              "    box-shadow: 0 1px 2px rgba(60, 64, 67, 0.3), 0 1px 3px 1px rgba(60, 64, 67, 0.15);\n",
              "    fill: var(--button-hover-fill-color);\n",
              "  }\n",
              "\n",
              "  .colab-df-quickchart-complete:disabled,\n",
              "  .colab-df-quickchart-complete:disabled:hover {\n",
              "    background-color: var(--disabled-bg-color);\n",
              "    fill: var(--disabled-fill-color);\n",
              "    box-shadow: none;\n",
              "  }\n",
              "\n",
              "  .colab-df-spinner {\n",
              "    border: 2px solid var(--fill-color);\n",
              "    border-color: transparent;\n",
              "    border-bottom-color: var(--fill-color);\n",
              "    animation:\n",
              "      spin 1s steps(1) infinite;\n",
              "  }\n",
              "\n",
              "  @keyframes spin {\n",
              "    0% {\n",
              "      border-color: transparent;\n",
              "      border-bottom-color: var(--fill-color);\n",
              "      border-left-color: var(--fill-color);\n",
              "    }\n",
              "    20% {\n",
              "      border-color: transparent;\n",
              "      border-left-color: var(--fill-color);\n",
              "      border-top-color: var(--fill-color);\n",
              "    }\n",
              "    30% {\n",
              "      border-color: transparent;\n",
              "      border-left-color: var(--fill-color);\n",
              "      border-top-color: var(--fill-color);\n",
              "      border-right-color: var(--fill-color);\n",
              "    }\n",
              "    40% {\n",
              "      border-color: transparent;\n",
              "      border-right-color: var(--fill-color);\n",
              "      border-top-color: var(--fill-color);\n",
              "    }\n",
              "    60% {\n",
              "      border-color: transparent;\n",
              "      border-right-color: var(--fill-color);\n",
              "    }\n",
              "    80% {\n",
              "      border-color: transparent;\n",
              "      border-right-color: var(--fill-color);\n",
              "      border-bottom-color: var(--fill-color);\n",
              "    }\n",
              "    90% {\n",
              "      border-color: transparent;\n",
              "      border-bottom-color: var(--fill-color);\n",
              "    }\n",
              "  }\n",
              "</style>\n",
              "\n",
              "  <script>\n",
              "    async function quickchart(key) {\n",
              "      const quickchartButtonEl =\n",
              "        document.querySelector('#' + key + ' button');\n",
              "      quickchartButtonEl.disabled = true;  // To prevent multiple clicks.\n",
              "      quickchartButtonEl.classList.add('colab-df-spinner');\n",
              "      try {\n",
              "        const charts = await google.colab.kernel.invokeFunction(\n",
              "            'suggestCharts', [key], {});\n",
              "      } catch (error) {\n",
              "        console.error('Error during call to suggestCharts:', error);\n",
              "      }\n",
              "      quickchartButtonEl.classList.remove('colab-df-spinner');\n",
              "      quickchartButtonEl.classList.add('colab-df-quickchart-complete');\n",
              "    }\n",
              "    (() => {\n",
              "      let quickchartButtonEl =\n",
              "        document.querySelector('#df-bff92b67-5873-4478-9540-14fa2b4ba01f button');\n",
              "      quickchartButtonEl.style.display =\n",
              "        google.colab.kernel.accessAllowed ? 'block' : 'none';\n",
              "    })();\n",
              "  </script>\n",
              "</div>\n",
              "    </div>\n",
              "  </div>\n"
            ]
          },
          "metadata": {},
          "execution_count": 16
        }
      ],
      "source": [
        "user_history_df.head()"
      ]
    },
    {
      "cell_type": "code",
      "execution_count": null,
      "id": "8b1e50f6",
      "metadata": {
        "id": "8b1e50f6"
      },
      "outputs": [],
      "source": []
    },
    {
      "cell_type": "markdown",
      "id": "684891a7",
      "metadata": {
        "id": "684891a7"
      },
      "source": [
        "# session based recommender system"
      ]
    },
    {
      "cell_type": "code",
      "execution_count": null,
      "id": "434b97f2",
      "metadata": {
        "colab": {
          "base_uri": "https://localhost:8080/"
        },
        "id": "434b97f2",
        "outputId": "7b7fb9a8-819f-464b-f4da-3d759ea355f7"
      },
      "outputs": [
        {
          "output_type": "stream",
          "name": "stdout",
          "text": [
            "Requirement already satisfied: tensorflow in /usr/local/lib/python3.10/dist-packages (2.14.0)\n",
            "Requirement already satisfied: absl-py>=1.0.0 in /usr/local/lib/python3.10/dist-packages (from tensorflow) (1.4.0)\n",
            "Requirement already satisfied: astunparse>=1.6.0 in /usr/local/lib/python3.10/dist-packages (from tensorflow) (1.6.3)\n",
            "Requirement already satisfied: flatbuffers>=23.5.26 in /usr/local/lib/python3.10/dist-packages (from tensorflow) (23.5.26)\n",
            "Requirement already satisfied: gast!=0.5.0,!=0.5.1,!=0.5.2,>=0.2.1 in /usr/local/lib/python3.10/dist-packages (from tensorflow) (0.5.4)\n",
            "Requirement already satisfied: google-pasta>=0.1.1 in /usr/local/lib/python3.10/dist-packages (from tensorflow) (0.2.0)\n",
            "Requirement already satisfied: h5py>=2.9.0 in /usr/local/lib/python3.10/dist-packages (from tensorflow) (3.9.0)\n",
            "Requirement already satisfied: libclang>=13.0.0 in /usr/local/lib/python3.10/dist-packages (from tensorflow) (16.0.6)\n",
            "Requirement already satisfied: ml-dtypes==0.2.0 in /usr/local/lib/python3.10/dist-packages (from tensorflow) (0.2.0)\n",
            "Requirement already satisfied: numpy>=1.23.5 in /usr/local/lib/python3.10/dist-packages (from tensorflow) (1.23.5)\n",
            "Requirement already satisfied: opt-einsum>=2.3.2 in /usr/local/lib/python3.10/dist-packages (from tensorflow) (3.3.0)\n",
            "Requirement already satisfied: packaging in /usr/local/lib/python3.10/dist-packages (from tensorflow) (23.2)\n",
            "Requirement already satisfied: protobuf!=4.21.0,!=4.21.1,!=4.21.2,!=4.21.3,!=4.21.4,!=4.21.5,<5.0.0dev,>=3.20.3 in /usr/local/lib/python3.10/dist-packages (from tensorflow) (3.20.3)\n",
            "Requirement already satisfied: setuptools in /usr/local/lib/python3.10/dist-packages (from tensorflow) (67.7.2)\n",
            "Requirement already satisfied: six>=1.12.0 in /usr/local/lib/python3.10/dist-packages (from tensorflow) (1.16.0)\n",
            "Requirement already satisfied: termcolor>=1.1.0 in /usr/local/lib/python3.10/dist-packages (from tensorflow) (2.3.0)\n",
            "Requirement already satisfied: typing-extensions>=3.6.6 in /usr/local/lib/python3.10/dist-packages (from tensorflow) (4.5.0)\n",
            "Requirement already satisfied: wrapt<1.15,>=1.11.0 in /usr/local/lib/python3.10/dist-packages (from tensorflow) (1.14.1)\n",
            "Requirement already satisfied: tensorflow-io-gcs-filesystem>=0.23.1 in /usr/local/lib/python3.10/dist-packages (from tensorflow) (0.34.0)\n",
            "Requirement already satisfied: grpcio<2.0,>=1.24.3 in /usr/local/lib/python3.10/dist-packages (from tensorflow) (1.59.2)\n",
            "Requirement already satisfied: tensorboard<2.15,>=2.14 in /usr/local/lib/python3.10/dist-packages (from tensorflow) (2.14.1)\n",
            "Requirement already satisfied: tensorflow-estimator<2.15,>=2.14.0 in /usr/local/lib/python3.10/dist-packages (from tensorflow) (2.14.0)\n",
            "Requirement already satisfied: keras<2.15,>=2.14.0 in /usr/local/lib/python3.10/dist-packages (from tensorflow) (2.14.0)\n",
            "Requirement already satisfied: wheel<1.0,>=0.23.0 in /usr/local/lib/python3.10/dist-packages (from astunparse>=1.6.0->tensorflow) (0.41.3)\n",
            "Requirement already satisfied: google-auth<3,>=1.6.3 in /usr/local/lib/python3.10/dist-packages (from tensorboard<2.15,>=2.14->tensorflow) (2.17.3)\n",
            "Requirement already satisfied: google-auth-oauthlib<1.1,>=0.5 in /usr/local/lib/python3.10/dist-packages (from tensorboard<2.15,>=2.14->tensorflow) (1.0.0)\n",
            "Requirement already satisfied: markdown>=2.6.8 in /usr/local/lib/python3.10/dist-packages (from tensorboard<2.15,>=2.14->tensorflow) (3.5.1)\n",
            "Requirement already satisfied: requests<3,>=2.21.0 in /usr/local/lib/python3.10/dist-packages (from tensorboard<2.15,>=2.14->tensorflow) (2.31.0)\n",
            "Requirement already satisfied: tensorboard-data-server<0.8.0,>=0.7.0 in /usr/local/lib/python3.10/dist-packages (from tensorboard<2.15,>=2.14->tensorflow) (0.7.2)\n",
            "Requirement already satisfied: werkzeug>=1.0.1 in /usr/local/lib/python3.10/dist-packages (from tensorboard<2.15,>=2.14->tensorflow) (3.0.1)\n",
            "Requirement already satisfied: cachetools<6.0,>=2.0.0 in /usr/local/lib/python3.10/dist-packages (from google-auth<3,>=1.6.3->tensorboard<2.15,>=2.14->tensorflow) (5.3.2)\n",
            "Requirement already satisfied: pyasn1-modules>=0.2.1 in /usr/local/lib/python3.10/dist-packages (from google-auth<3,>=1.6.3->tensorboard<2.15,>=2.14->tensorflow) (0.3.0)\n",
            "Requirement already satisfied: rsa<5,>=3.1.4 in /usr/local/lib/python3.10/dist-packages (from google-auth<3,>=1.6.3->tensorboard<2.15,>=2.14->tensorflow) (4.9)\n",
            "Requirement already satisfied: requests-oauthlib>=0.7.0 in /usr/local/lib/python3.10/dist-packages (from google-auth-oauthlib<1.1,>=0.5->tensorboard<2.15,>=2.14->tensorflow) (1.3.1)\n",
            "Requirement already satisfied: charset-normalizer<4,>=2 in /usr/local/lib/python3.10/dist-packages (from requests<3,>=2.21.0->tensorboard<2.15,>=2.14->tensorflow) (3.3.2)\n",
            "Requirement already satisfied: idna<4,>=2.5 in /usr/local/lib/python3.10/dist-packages (from requests<3,>=2.21.0->tensorboard<2.15,>=2.14->tensorflow) (3.4)\n",
            "Requirement already satisfied: urllib3<3,>=1.21.1 in /usr/local/lib/python3.10/dist-packages (from requests<3,>=2.21.0->tensorboard<2.15,>=2.14->tensorflow) (2.0.7)\n",
            "Requirement already satisfied: certifi>=2017.4.17 in /usr/local/lib/python3.10/dist-packages (from requests<3,>=2.21.0->tensorboard<2.15,>=2.14->tensorflow) (2023.7.22)\n",
            "Requirement already satisfied: MarkupSafe>=2.1.1 in /usr/local/lib/python3.10/dist-packages (from werkzeug>=1.0.1->tensorboard<2.15,>=2.14->tensorflow) (2.1.3)\n",
            "Requirement already satisfied: pyasn1<0.6.0,>=0.4.6 in /usr/local/lib/python3.10/dist-packages (from pyasn1-modules>=0.2.1->google-auth<3,>=1.6.3->tensorboard<2.15,>=2.14->tensorflow) (0.5.0)\n",
            "Requirement already satisfied: oauthlib>=3.0.0 in /usr/local/lib/python3.10/dist-packages (from requests-oauthlib>=0.7.0->google-auth-oauthlib<1.1,>=0.5->tensorboard<2.15,>=2.14->tensorflow) (3.2.2)\n"
          ]
        }
      ],
      "source": [
        "!pip install tensorflow"
      ]
    },
    {
      "cell_type": "code",
      "source": [
        "#Temporal - LSTM approach"
      ],
      "metadata": {
        "id": "oS5NZvFJykQ-"
      },
      "id": "oS5NZvFJykQ-",
      "execution_count": 1,
      "outputs": []
    },
    {
      "cell_type": "code",
      "execution_count": null,
      "id": "1a174bc3",
      "metadata": {
        "colab": {
          "base_uri": "https://localhost:8080/"
        },
        "id": "1a174bc3",
        "outputId": "d0950a6c-b7af-4370-f114-f929aaebd097"
      },
      "outputs": [
        {
          "output_type": "stream",
          "name": "stdout",
          "text": [
            "Epoch 1/5\n",
            "33/33 [==============================] - 7s 156ms/step - loss: 9.0229 - accuracy: 0.7819 - val_loss: 6.2094 - val_accuracy: 0.8256\n",
            "Epoch 2/5\n",
            "33/33 [==============================] - 2s 68ms/step - loss: 3.4961 - accuracy: 0.8266 - val_loss: 2.4010 - val_accuracy: 0.8256\n",
            "Epoch 3/5\n",
            "33/33 [==============================] - 2s 77ms/step - loss: 2.1269 - accuracy: 0.8266 - val_loss: 2.0281 - val_accuracy: 0.8256\n",
            "Epoch 4/5\n",
            "33/33 [==============================] - 2s 52ms/step - loss: 1.8013 - accuracy: 0.8266 - val_loss: 1.8357 - val_accuracy: 0.8256\n",
            "Epoch 5/5\n",
            "33/33 [==============================] - 2s 53ms/step - loss: 1.6824 - accuracy: 0.8266 - val_loss: 1.7882 - val_accuracy: 0.8256\n",
            "65/65 [==============================] - 1s 11ms/step - loss: 1.7882 - accuracy: 0.8256\n",
            "Test Loss: 1.7881767749786377, Test Accuracy: 0.8256129026412964\n"
          ]
        }
      ],
      "source": [
        "import pandas as pd\n",
        "import numpy as np\n",
        "import tensorflow as tf\n",
        "from tensorflow.keras.models import Sequential\n",
        "from tensorflow.keras.layers import LSTM, Dense, Embedding, Dropout\n",
        "from tensorflow.keras.preprocessing.sequence import pad_sequences\n",
        "from sklearn.model_selection import train_test_split\n",
        "from sklearn.preprocessing import LabelEncoder\n",
        "\n",
        "\n",
        "# Data Preprocessing\n",
        "# Encoding track IDs to numerical values\n",
        "track_id_encoder = LabelEncoder()\n",
        "user_history_df['track_id_encoded'] = track_id_encoder.fit_transform(user_history_df['track_id'])\n",
        "\n",
        "# Preparing sequences (lists of track IDs) for each user session\n",
        "sessions = user_history_df.groupby('user_id')['track_id_encoded'].apply(list)\n",
        "\n",
        "# Prepare data for RNN\n",
        "sequences = [session for session in sessions if len(session) > 1]  # Only consider sessions with at least 2 tracks\n",
        "X = [sequence[:-1] for sequence in sequences]\n",
        "y = [sequence[1:] for sequence in sequences]\n",
        "\n",
        "# Padding sequences for consistent input size\n",
        "X_padded = pad_sequences(X, padding='post')\n",
        "y_padded = pad_sequences(y, padding='post')\n",
        "\n",
        "# Splitting data into training and testing sets\n",
        "X_train, X_test, y_train, y_test = train_test_split(X_padded, y_padded, test_size=0.2, random_state=42)\n",
        "\n",
        "# Model Building\n",
        "num_tracks = len(track_id_encoder.classes_)\n",
        "model = Sequential([\n",
        "    Embedding(input_dim=num_tracks, output_dim=50, input_length=X_train.shape[1]),\n",
        "    LSTM(128, return_sequences=True),\n",
        "    Dropout(0.2),\n",
        "    Dense(num_tracks, activation='softmax')\n",
        "])\n",
        "\n",
        "model.compile(optimizer='adam', loss='sparse_categorical_crossentropy', metrics=['accuracy'])\n",
        "\n",
        "# Model Training\n",
        "model.fit(X_train, y_train, epochs=5,batch_size=256 ,validation_data=(X_test, y_test))\n",
        "\n",
        "# Model Evaluation (Modify based on desired metrics)\n",
        "loss, accuracy = model.evaluate(X_test, y_test)\n",
        "print(f\"Test Loss: {loss}, Test Accuracy: {accuracy}\")\n",
        "\n",
        "#Modified recommendation function to return top 10 songs\n",
        "def recommend_top_10_music(user_id):\n",
        "    if user_id not in sessions:\n",
        "        return \"User not found.\"\n",
        "\n",
        "    input_sequence = [sessions[user_id][:-1]]\n",
        "    input_padded = pad_sequences(input_sequence, maxlen=X_train.shape[1], padding='post')\n",
        "    predicted_sequence = model.predict(input_padded)[0]\n",
        "\n",
        "    # Getting top 10 recommendations\n",
        "    recommended_track_indices = np.argsort(predicted_sequence[-1])[::-1][:10]\n",
        "    recommended_tracks = track_id_encoder.inverse_transform(recommended_track_indices)\n",
        "\n",
        "    return [music_df[music_df['track_id'] == track_id]['name'].iloc[0] for track_id in recommended_tracks]\n",
        "\n",
        "\n",
        "\n"
      ]
    },
    {
      "cell_type": "code",
      "source": [],
      "metadata": {
        "id": "0g7t_G-gyjWa"
      },
      "id": "0g7t_G-gyjWa",
      "execution_count": null,
      "outputs": []
    },
    {
      "cell_type": "code",
      "source": [
        "from google.colab import drive\n",
        "drive.mount('/content/drive')"
      ],
      "metadata": {
        "colab": {
          "base_uri": "https://localhost:8080/"
        },
        "id": "wl0rfxzF2uBV",
        "outputId": "6b617a79-cb62-4c36-e6d5-4c46844ffcac"
      },
      "id": "wl0rfxzF2uBV",
      "execution_count": null,
      "outputs": [
        {
          "output_type": "stream",
          "name": "stdout",
          "text": [
            "Mounted at /content/drive\n"
          ]
        }
      ]
    },
    {
      "cell_type": "code",
      "source": [
        "#prediction"
      ],
      "metadata": {
        "id": "AR_h0uaIy9mZ"
      },
      "id": "AR_h0uaIy9mZ",
      "execution_count": null,
      "outputs": []
    },
    {
      "cell_type": "code",
      "execution_count": null,
      "id": "7110551f",
      "metadata": {
        "colab": {
          "base_uri": "https://localhost:8080/"
        },
        "id": "7110551f",
        "outputId": "89d7dbdd-5d12-4262-f225-d5f8d6906b94"
      },
      "outputs": [
        {
          "output_type": "stream",
          "name": "stdout",
          "text": [
            "1/1 [==============================] - 0s 388ms/step\n",
            "Recommended Tracks: [\"It's About Time\", 'The Battery', 'Bitter Sweet Symphony', 'No Cars Go', 'Float On', 'Never Let You Go', 'Uprising', 'One Less Lonely Girl', 'Hey There Delilah', 'Such Great Heights']\n"
          ]
        }
      ],
      "source": [
        "\n",
        "user_id_example = '92ee615ade6dcec2b7e4103f448e57d81127401a'\n",
        "print(\"Recommended Tracks:\", recommend_top_10_music(user_id_example))"
      ]
    },
    {
      "cell_type": "code",
      "source": [
        "#Temporal - cosine similarity"
      ],
      "metadata": {
        "id": "sdX7ta6YyHMb"
      },
      "id": "sdX7ta6YyHMb",
      "execution_count": 2,
      "outputs": []
    },
    {
      "cell_type": "code",
      "source": [
        "import pandas as pd\n",
        "from sklearn.metrics.pairwise import cosine_similarity\n",
        "from scipy.sparse import csr_matrix\n",
        "\n",
        "\n",
        "# Preprocess the data: Create a user-item interaction matrix\n",
        "interaction_matrix = user_history_df.pivot_table(index='user_id', columns='track_id', values='playcount', fill_value=0)\n",
        "\n",
        "# Convert the interaction matrix to a sparse matrix\n",
        "sparse_interaction_matrix = csr_matrix(interaction_matrix)\n",
        "\n",
        "# Compute cosine similarities between users\n",
        "user_similarity = cosine_similarity(sparse_interaction_matrix)\n",
        "\n",
        "# Function to make recommendations for a given user\n",
        "def make_recommendations(user_id, user_similarity_matrix, interaction_matrix, top_n=5):\n",
        "    # Find the user index from the user ID\n",
        "    user_idx = list(interaction_matrix.index).index(user_id)\n",
        "\n",
        "    # Get similarity values with other users\n",
        "    similarity_values = user_similarity_matrix[user_idx]\n",
        "\n",
        "    # Sort these values and get the indexes of the top similar users\n",
        "    similar_users = similarity_values.argsort()[::-1][1:top_n+1]\n",
        "\n",
        "    # Get the most interacted tracks by these similar users\n",
        "    similar_users_interactions = interaction_matrix.iloc[similar_users].T\n",
        "    similar_users_interactions['sum_interactions'] = similar_users_interactions.sum(axis=1)\n",
        "\n",
        "    # Sort and pick top N tracks\n",
        "    recommendations = similar_users_interactions.sort_values(by='sum_interactions', ascending=False).head(top_n)\n",
        "\n",
        "    # Map track IDs to track names\n",
        "    track_ids = recommendations.index.tolist()\n",
        "    recommended_tracks = music_df[music_df['track_id'].isin(track_ids)][['track_id', 'name', 'artist']]\n",
        "\n",
        "    return recommended_tracks\n",
        "\n",
        "# Example usage\n",
        "example_user_id = \"b218f76e5053c281ba233cf43845a285bfc3049f\"\n",
        "recommended_tracks = make_recommendations(example_user_id, user_similarity, interaction_matrix)\n",
        "print(recommended_tracks)\n"
      ],
      "metadata": {
        "colab": {
          "base_uri": "https://localhost:8080/"
        },
        "id": "iVVLDTVj9KE7",
        "outputId": "97b6db5f-57de-4b5c-84d5-021ad9953ddb"
      },
      "id": "iVVLDTVj9KE7",
      "execution_count": null,
      "outputs": [
        {
          "output_type": "stream",
          "name": "stdout",
          "text": [
            "                 track_id                   name       artist\n",
            "295    TRUQEKG128F9310309             Is This It  The Strokes\n",
            "694    TRRKODA128F146DE22             Robot Rock    Daft Punk\n",
            "1321   TRGKLSE12903CCC5CD           My Sacrifice        Creed\n",
            "5259   TRIUYGE128F1492268  If You Could Only See        Tonic\n",
            "21839  TRNBMJP128F93433D8             Kilometros  Sin Bandera\n"
          ]
        }
      ]
    },
    {
      "cell_type": "code",
      "source": [
        "\n",
        "example_user_id = \"57255430f4d62c72429c1b3808b64ac1bca08144\"  # Replace with a specific user ID\n",
        "recommended_tracks = make_recommendations(example_user_id, user_similarity, interaction_matrix)\n",
        "print(recommended_tracks)"
      ],
      "metadata": {
        "colab": {
          "base_uri": "https://localhost:8080/"
        },
        "id": "QtFZ52xi9Lh0",
        "outputId": "4ad3828c-4936-4678-e8d4-d4b620ef0e54"
      },
      "id": "QtFZ52xi9Lh0",
      "execution_count": null,
      "outputs": [
        {
          "output_type": "stream",
          "name": "stdout",
          "text": [
            "                 track_id            name           artist\n",
            "295    TRUQEKG128F9310309      Is This It      The Strokes\n",
            "1869   TRLIDNT128F930327C       Dull Life  Yeah Yeah Yeahs\n",
            "11049  TRZROTX128F42720DE          Activa       Deerhunter\n",
            "26191  TRAACPH12903CF5F14  Double Feature   Camera Obscura\n",
            "29967  TRITUFI128F147B77A    Another Town   Regina Spektor\n"
          ]
        }
      ]
    },
    {
      "cell_type": "code",
      "source": [
        "#session based approach"
      ],
      "metadata": {
        "id": "ka9kbPaU-LRe"
      },
      "id": "ka9kbPaU-LRe",
      "execution_count": null,
      "outputs": []
    },
    {
      "cell_type": "code",
      "source": [
        "import pandas as pd\n",
        "from sklearn.metrics.pairwise import cosine_similarity\n",
        "from scipy.sparse import csr_matrix\n",
        "import numpy as np\n",
        "\n",
        "\n",
        "\n",
        "# Define sessions for each user\n",
        "# This could be a simple groupby operation if you have timestamps or other session-defining data\n",
        "# For demonstration, let's assume each user has a single session for simplicity\n",
        "user_sessions = user_history_df.groupby('user_id').ngroup()\n",
        "user_history_df['session_id'] = user_sessions\n",
        "\n",
        "# Create a session-item interaction matrix\n",
        "session_interaction_matrix = user_history_df.pivot_table(\n",
        "    index='session_id', columns='track_id', values='playcount', fill_value=0\n",
        ")\n",
        "\n",
        "# Convert the interaction matrix to a sparse matrix\n",
        "sparse_session_interaction_matrix = csr_matrix(session_interaction_matrix)\n",
        "\n",
        "# Compute cosine similarities between sessions\n",
        "session_similarity = cosine_similarity(sparse_session_interaction_matrix)\n",
        "\n",
        "# Function to make recommendations for a given user\n",
        "def make_user_recommendations(user_id, user_history_df, session_similarity_matrix, interaction_matrix, music_df, top_n=5):\n",
        "    # Find sessions associated with the user\n",
        "    user_session_id = user_history_df[user_history_df['user_id'] == user_id]['session_id'].iloc[0]\n",
        "\n",
        "    # Get similarity values with other sessions\n",
        "    similarity_values = session_similarity_matrix[user_session_id]\n",
        "\n",
        "    # Sort these values and get the indexes of the top similar sessions\n",
        "    similar_sessions = similarity_values.argsort()[::-1][1:top_n+1]\n",
        "\n",
        "    # Get the most interacted tracks by these similar sessions\n",
        "    similar_sessions_interactions = interaction_matrix.iloc[similar_sessions].T\n",
        "    similar_sessions_interactions['sum_interactions'] = similar_sessions_interactions.sum(axis=1)\n",
        "\n",
        "    # Sort and pick top N tracks\n",
        "    recommendations = similar_sessions_interactions.sort_values(by='sum_interactions', ascending=False).head(top_n)\n",
        "\n",
        "    # Map track IDs to track names\n",
        "    track_ids = recommendations.index.tolist()\n",
        "    recommended_tracks = music_df[music_df['track_id'].isin(track_ids)][['track_id', 'name', 'artist']]\n",
        "\n",
        "    return recommended_tracks\n",
        "\n",
        "# Example usage\n",
        "input_user_id = input(\"Enter the user ID for recommendations: \")  # User inputs the user ID\n",
        "recommended_tracks = make_user_recommendations(input_user_id, user_history_df, session_similarity, session_interaction_matrix, music_df)\n",
        "print(recommended_tracks)\n"
      ],
      "metadata": {
        "colab": {
          "base_uri": "https://localhost:8080/"
        },
        "id": "7eEqe_QS-rvA",
        "outputId": "6aa71bf6-2d30-4853-902c-48ac4364b442"
      },
      "id": "7eEqe_QS-rvA",
      "execution_count": null,
      "outputs": [
        {
          "output_type": "stream",
          "name": "stdout",
          "text": [
            "Enter the user ID for recommendations: 57255430f4d62c72429c1b3808b64ac1bca08144\n",
            "                 track_id            name           artist\n",
            "295    TRUQEKG128F9310309      Is This It      The Strokes\n",
            "1869   TRLIDNT128F930327C       Dull Life  Yeah Yeah Yeahs\n",
            "11049  TRZROTX128F42720DE          Activa       Deerhunter\n",
            "26191  TRAACPH12903CF5F14  Double Feature   Camera Obscura\n",
            "29967  TRITUFI128F147B77A    Another Town   Regina Spektor\n"
          ]
        }
      ]
    },
    {
      "cell_type": "code",
      "source": [
        "input_user_id = input(\"Enter the user ID for recommendations: \")  # User inputs the user ID\n",
        "recommended_tracks = make_user_recommendations(input_user_id, user_history_df, session_similarity, session_interaction_matrix, music_df)\n",
        "print(recommended_tracks)"
      ],
      "metadata": {
        "colab": {
          "base_uri": "https://localhost:8080/"
        },
        "id": "DRvA60Gr_egm",
        "outputId": "46302463-aa72-4cb5-d930-77566c16b9a6"
      },
      "id": "DRvA60Gr_egm",
      "execution_count": null,
      "outputs": [
        {
          "output_type": "stream",
          "name": "stdout",
          "text": [
            "Enter the user ID for recommendations: b218f76e5053c281ba233cf43845a285bfc3049f\n",
            "                 track_id                   name       artist\n",
            "295    TRUQEKG128F9310309             Is This It  The Strokes\n",
            "694    TRRKODA128F146DE22             Robot Rock    Daft Punk\n",
            "1321   TRGKLSE12903CCC5CD           My Sacrifice        Creed\n",
            "5259   TRIUYGE128F1492268  If You Could Only See        Tonic\n",
            "21839  TRNBMJP128F93433D8             Kilometros  Sin Bandera\n"
          ]
        }
      ]
    },
    {
      "cell_type": "code",
      "source": [
        "#fsession consisting of 10 songs for each user"
      ],
      "metadata": {
        "id": "igQk9gke_iGt"
      },
      "id": "igQk9gke_iGt",
      "execution_count": null,
      "outputs": []
    },
    {
      "cell_type": "code",
      "source": [
        "import pandas as pd\n",
        "from sklearn.metrics.pairwise import cosine_similarity\n",
        "from scipy.sparse import csr_matrix\n",
        "\n",
        "\n",
        "# Define sessions for each user (each session consists of 10 songs)\n",
        "session_list = []\n",
        "session_id = 0\n",
        "for _, group in user_history_df.groupby('user_id'):\n",
        "    for i in range(0, len(group), 10):\n",
        "        session_songs = group.iloc[i:i+10]\n",
        "        session_songs['session_id'] = session_id\n",
        "        session_list.append(session_songs)\n",
        "        session_id += 1\n",
        "\n",
        "# Combine all sessions into a single dataframe\n",
        "session_df = pd.concat(session_list)\n",
        "\n",
        "# Create a session-item interaction matrix\n",
        "session_interaction_matrix = session_df.pivot_table(\n",
        "    index='session_id', columns='track_id', values='playcount', fill_value=0\n",
        ")\n",
        "\n",
        "# Convert the interaction matrix to a sparse matrix\n",
        "sparse_session_interaction_matrix = csr_matrix(session_interaction_matrix)\n",
        "\n",
        "# Compute cosine similarities between sessions\n",
        "session_similarity = cosine_similarity(sparse_session_interaction_matrix)\n",
        "\n",
        "# Function to make recommendations for a given user\n",
        "def make_user_recommendations(user_id, session_df, session_similarity_matrix, interaction_matrix, music_df, top_n=5):\n",
        "    # Find sessions associated with the user\n",
        "    user_sessions = session_df[session_df['user_id'] == user_id]['session_id'].unique()\n",
        "\n",
        "    # Average similarity values across all user sessions\n",
        "    similarity_values = np.mean(session_similarity_matrix[user_sessions], axis=0)\n",
        "\n",
        "    # Sort these values and get the indexes of the top similar sessions\n",
        "    similar_sessions = similarity_values.argsort()[::-1][1:top_n+1]\n",
        "\n",
        "    # Get the most interacted tracks by these similar sessions\n",
        "    similar_sessions_interactions = interaction_matrix.iloc[similar_sessions].T\n",
        "    similar_sessions_interactions['sum_interactions'] = similar_sessions_interactions.sum(axis=1)\n",
        "\n",
        "    # Sort and pick top N tracks\n",
        "    recommendations = similar_sessions_interactions.sort_values(by='sum_interactions', ascending=False).head(top_n)\n",
        "\n",
        "    # Map track IDs to track names\n",
        "    track_ids = recommendations.index.tolist()\n",
        "    recommended_tracks = music_df[music_df['track_id'].isin(track_ids)][['track_id', 'name', 'artist']]\n",
        "\n",
        "    return recommended_tracks\n",
        "\n",
        "# Example usage\n",
        "input_user_id = input(\"Enter the user ID for recommendations: \")  # User inputs the user ID\n",
        "recommended_tracks = make_user_recommendations(input_user_id, session_df, session_similarity, session_interaction_matrix, music_df)\n",
        "print(recommended_tracks)\n"
      ],
      "metadata": {
        "colab": {
          "base_uri": "https://localhost:8080/"
        },
        "id": "TBuZoKuYDSFZ",
        "outputId": "13b36c93-7f03-4571-e428-379cd6f415a8"
      },
      "id": "TBuZoKuYDSFZ",
      "execution_count": null,
      "outputs": [
        {
          "output_type": "stream",
          "name": "stdout",
          "text": [
            "Enter the user ID for recommendations: b218f76e5053c281ba233cf43845a285bfc3049f\n",
            "                 track_id                   name       artist\n",
            "295    TRUQEKG128F9310309             Is This It  The Strokes\n",
            "694    TRRKODA128F146DE22             Robot Rock    Daft Punk\n",
            "1321   TRGKLSE12903CCC5CD           My Sacrifice        Creed\n",
            "5259   TRIUYGE128F1492268  If You Could Only See        Tonic\n",
            "21839  TRNBMJP128F93433D8             Kilometros  Sin Bandera\n"
          ]
        }
      ]
    },
    {
      "cell_type": "code",
      "source": [
        "\n",
        "input_user_id = input(\"Enter the user ID for recommendations: \")  # User inputs the user ID\n",
        "recommended_tracks = make_user_recommendations(input_user_id, session_df, session_similarity, session_interaction_matrix, music_df)\n",
        "print(recommended_tracks)\n"
      ],
      "metadata": {
        "colab": {
          "base_uri": "https://localhost:8080/"
        },
        "id": "KXGLB1gwDShn",
        "outputId": "be41a745-6170-4f04-de20-fa1bd57d1a06"
      },
      "id": "KXGLB1gwDShn",
      "execution_count": null,
      "outputs": [
        {
          "output_type": "stream",
          "name": "stdout",
          "text": [
            "Enter the user ID for recommendations: 57255430f4d62c72429c1b3808b64ac1bca08144\n",
            "                 track_id            name           artist\n",
            "295    TRUQEKG128F9310309      Is This It      The Strokes\n",
            "1869   TRLIDNT128F930327C       Dull Life  Yeah Yeah Yeahs\n",
            "11049  TRZROTX128F42720DE          Activa       Deerhunter\n",
            "26191  TRAACPH12903CF5F14  Double Feature   Camera Obscura\n",
            "29967  TRITUFI128F147B77A    Another Town   Regina Spektor\n"
          ]
        }
      ]
    },
    {
      "cell_type": "code",
      "source": [
        "#Giving new user input - eg - listening to folk songs"
      ],
      "metadata": {
        "id": "FjGItHhrDbFy"
      },
      "id": "FjGItHhrDbFy",
      "execution_count": null,
      "outputs": []
    },
    {
      "cell_type": "code",
      "source": [],
      "metadata": {
        "id": "8YewB0Q-EPLd"
      },
      "id": "8YewB0Q-EPLd",
      "execution_count": null,
      "outputs": []
    },
    {
      "cell_type": "code",
      "source": [
        "import pandas as pd\n",
        "import numpy as np\n",
        "from sklearn.metrics.pairwise import cosine_similarity\n",
        "from scipy.sparse import csr_matrix\n",
        "\n",
        "# Define sessions for each user (each session consists of 10 songs)\n",
        "session_list = []\n",
        "session_id = 0\n",
        "for _, group in user_history_df.groupby('user_id'):\n",
        "    for i in range(0, len(group), 10):\n",
        "        session_songs = group.iloc[i:i+10]\n",
        "        session_songs['session_id'] = session_id\n",
        "        session_list.append(session_songs)\n",
        "        session_id += 1\n",
        "\n",
        "# Combine all sessions into a single dataframe\n",
        "session_df = pd.concat(session_list)\n",
        "\n",
        "# Create a session-item interaction matrix\n",
        "session_interaction_matrix = session_df.pivot_table(\n",
        "    index='session_id', columns='track_id', values='playcount', fill_value=0\n",
        ")\n",
        "\n",
        "# Convert the interaction matrix to a sparse matrix\n",
        "sparse_session_interaction_matrix = csr_matrix(session_interaction_matrix)\n",
        "\n",
        "# Compute cosine similarities between sessions\n",
        "session_similarity = cosine_similarity(sparse_session_interaction_matrix)\n",
        "\n",
        "# Function to make recommendations based on a list of 5 track IDs\n",
        "def make_track_recommendations(track_ids, session_df, session_similarity_matrix, interaction_matrix, music_df, top_n=5):\n",
        "    # Find sessions that contain the provided track IDs\n",
        "    relevant_sessions = session_df[session_df['track_id'].isin(track_ids)]['session_id'].unique()\n",
        "\n",
        "    if len(relevant_sessions) == 0:\n",
        "        return \"No relevant sessions found for the provided track IDs.\"\n",
        "\n",
        "    # Average similarity values across relevant sessions\n",
        "    similarity_values = np.mean(session_similarity_matrix[relevant_sessions], axis=0)\n",
        "\n",
        "    # Sort these values and get the indexes of the top similar sessions\n",
        "    similar_sessions = similarity_values.argsort()[::-1][1:top_n+1]\n",
        "\n",
        "    # Get the most interacted tracks by these similar sessions\n",
        "    similar_sessions_interactions = interaction_matrix.iloc[similar_sessions].T\n",
        "    similar_sessions_interactions['sum_interactions'] = similar_sessions_interactions.sum(axis=1)\n",
        "\n",
        "    # Sort and pick top N tracks\n",
        "    recommendations = similar_sessions_interactions.sort_values(by='sum_interactions', ascending=False).head(top_n)\n",
        "\n",
        "    # Map track IDs to track names and genres\n",
        "    track_ids = recommendations.index.tolist()\n",
        "    recommended_tracks = music_df[music_df['track_id'].isin(track_ids)][['track_id', 'name', 'artist', 'genre']]\n",
        "\n",
        "    return recommended_tracks\n",
        "\n",
        "# Example usage with a list of 5 track IDs\n",
        "input_track_ids = [\n",
        "    'TRZJGCC128F427A496', 'TRCZLTG128F9347CFD', 'TRUZAKI128F428F537', 'TRWBZHJ128F935A65A', 'TROEYTB128F4272F02'\n",
        "]\n",
        "\n",
        "# Suppress warnings\n",
        "import warnings\n",
        "warnings.filterwarnings(\"ignore\")\n",
        "\n",
        "recommended_tracks = make_track_recommendations(input_track_ids, session_df, session_similarity, session_interaction_matrix, music_df)\n",
        "print(recommended_tracks)\n"
      ],
      "metadata": {
        "colab": {
          "base_uri": "https://localhost:8080/"
        },
        "id": "A-Fzn46XEP_a",
        "outputId": "d3328689-688c-4d6a-d1b7-30eb8150ce17"
      },
      "id": "A-Fzn46XEP_a",
      "execution_count": null,
      "outputs": [
        {
          "output_type": "stream",
          "name": "stdout",
          "text": [
            "                 track_id              name            artist genre\n",
            "550    TRZJGCC128F427A496          For Emma          Bon Iver  Folk\n",
            "847    TRQLPHT128F427A495              Team          Bon Iver   NaN\n",
            "8652   TRRKXNQ128F9339002  I'll Be Your Man    The Black Keys   NaN\n",
            "33235  TRWBZHJ128F935A65A           Goodway  Monsters of Folk  Folk\n",
            "48381  TRRKKOF128F14617DC              Mass       Virtual Boy   NaN\n"
          ]
        }
      ]
    },
    {
      "cell_type": "code",
      "source": [
        "#Session based using rnn"
      ],
      "metadata": {
        "id": "d0BpOXZ_Ep9S"
      },
      "id": "d0BpOXZ_Ep9S",
      "execution_count": null,
      "outputs": []
    },
    {
      "cell_type": "code",
      "source": [
        "import pandas as pd\n",
        "import numpy as np\n",
        "from sklearn.model_selection import train_test_split\n",
        "from tensorflow.keras.models import Sequential\n",
        "from tensorflow.keras.layers import Embedding, LSTM, Dense, Dropout\n",
        "from tensorflow.keras.optimizers import Adam\n",
        "from tensorflow.keras.preprocessing.sequence import pad_sequences\n",
        "\n",
        "# Example user_history_df\n",
        "# user_history_df = pd.read_csv('your_user_history_file.csv')\n",
        "\n",
        "# Creating session data\n",
        "session_list = []\n",
        "session_id = 0\n",
        "for _, group in user_history_df.groupby('user_id'):\n",
        "    for i in range(0, len(group), 10):\n",
        "        session_songs = group.iloc[i:i + 10]\n",
        "        session_songs['session_id'] = session_id\n",
        "        session_list.append(session_songs)\n",
        "        session_id += 1\n",
        "\n",
        "session_df = pd.concat(session_list)\n",
        "\n",
        "# Convert track_id to numeric IDs\n",
        "unique_track_ids = session_df['track_id'].unique()\n",
        "track_id_mapping = {id: i for i, id in enumerate(unique_track_ids)}\n",
        "session_df['track_id'] = session_df['track_id'].map(track_id_mapping)\n",
        "\n",
        "# Prepare sequences for RNN\n",
        "sequences = session_df.groupby('session_id')['track_id'].apply(list)\n",
        "\n",
        "X = []\n",
        "y = []\n",
        "for sequence in sequences:\n",
        "    for i in range(1, len(sequence)):\n",
        "        X.append(sequence[:i])\n",
        "        y.append(sequence[i])\n",
        "\n",
        "max_sequence_len = max([len(x) for x in X])\n",
        "X = pad_sequences(X, maxlen=max_sequence_len, padding='pre')\n",
        "y = np.array(y)\n",
        "\n",
        "# Split into training and test sets\n",
        "X_train, X_test, y_train, y_test = train_test_split(X, y, test_size=0.2, random_state=42)\n"
      ],
      "metadata": {
        "id": "OuqZhLOcJADv"
      },
      "id": "OuqZhLOcJADv",
      "execution_count": null,
      "outputs": []
    },
    {
      "cell_type": "code",
      "source": [
        "max_track_id = len(unique_track_ids)\n",
        "\n",
        "model = Sequential()\n",
        "model.add(Embedding(max_track_id, 50, input_length=max_sequence_len))\n",
        "model.add(LSTM(100, return_sequences=True))\n",
        "model.add(Dropout(0.2))\n",
        "model.add(LSTM(100))\n",
        "model.add(Dense(max_track_id, activation='softmax'))\n",
        "\n",
        "model.compile(loss='sparse_categorical_crossentropy', optimizer=Adam(lr=0.001))\n",
        "print(model.summary())\n"
      ],
      "metadata": {
        "colab": {
          "base_uri": "https://localhost:8080/"
        },
        "id": "je54NpzIJGdF",
        "outputId": "5bc51c6b-991e-4c51-cb69-2dd85c086b52"
      },
      "id": "je54NpzIJGdF",
      "execution_count": null,
      "outputs": [
        {
          "output_type": "stream",
          "name": "stderr",
          "text": [
            "WARNING:absl:`lr` is deprecated in Keras optimizer, please use `learning_rate` or use the legacy optimizer, e.g.,tf.keras.optimizers.legacy.Adam.\n"
          ]
        },
        {
          "output_type": "stream",
          "name": "stdout",
          "text": [
            "Model: \"sequential_1\"\n",
            "_________________________________________________________________\n",
            " Layer (type)                Output Shape              Param #   \n",
            "=================================================================\n",
            " embedding_1 (Embedding)     (None, 2, 50)             257750    \n",
            "                                                                 \n",
            " lstm_1 (LSTM)               (None, 2, 100)            60400     \n",
            "                                                                 \n",
            " dropout (Dropout)           (None, 2, 100)            0         \n",
            "                                                                 \n",
            " lstm_2 (LSTM)               (None, 100)               80400     \n",
            "                                                                 \n",
            " dense_1 (Dense)             (None, 5155)              520655    \n",
            "                                                                 \n",
            "=================================================================\n",
            "Total params: 919205 (3.51 MB)\n",
            "Trainable params: 919205 (3.51 MB)\n",
            "Non-trainable params: 0 (0.00 Byte)\n",
            "_________________________________________________________________\n",
            "None\n"
          ]
        }
      ]
    },
    {
      "cell_type": "code",
      "source": [
        "model.fit(X_train, y_train, epochs=3, batch_size=64)\n"
      ],
      "metadata": {
        "colab": {
          "base_uri": "https://localhost:8080/"
        },
        "id": "NGATjB-8NUsE",
        "outputId": "1857854b-becc-4a0a-d196-33c25696c87f"
      },
      "id": "NGATjB-8NUsE",
      "execution_count": null,
      "outputs": [
        {
          "output_type": "stream",
          "name": "stdout",
          "text": [
            "Epoch 1/3\n",
            "2/2 [==============================] - 10s 262ms/step - loss: 8.5477\n",
            "Epoch 2/3\n",
            "2/2 [==============================] - 0s 14ms/step - loss: 8.5441\n",
            "Epoch 3/3\n",
            "2/2 [==============================] - 0s 247ms/step - loss: 8.5403\n"
          ]
        },
        {
          "output_type": "execute_result",
          "data": {
            "text/plain": [
              "<keras.src.callbacks.History at 0x7fa073c47370>"
            ]
          },
          "metadata": {},
          "execution_count": 32
        }
      ]
    },
    {
      "cell_type": "code",
      "source": [
        "loss = model.evaluate(X_test, y_test)\n",
        "print(f\"Test Loss: {loss}\")\n"
      ],
      "metadata": {
        "colab": {
          "base_uri": "https://localhost:8080/"
        },
        "id": "WiIElppCNWwi",
        "outputId": "216ba184-66d8-4a45-c3ca-6a606d175b00"
      },
      "id": "WiIElppCNWwi",
      "execution_count": null,
      "outputs": [
        {
          "output_type": "stream",
          "name": "stdout",
          "text": [
            "1/1 [==============================] - 1s 1s/step - loss: 8.5480\n",
            "Test Loss: 8.547978401184082\n"
          ]
        }
      ]
    },
    {
      "cell_type": "code",
      "source": [
        "def predict_next_songs(session_sequence, model, max_sequence_len, track_id_mapping, num_songs=5):\n",
        "    # Convert to numeric IDs\n",
        "    session_sequence_numeric = [track_id_mapping[song] for song in session_sequence if song in track_id_mapping]\n",
        "\n",
        "    sequence = pad_sequences([session_sequence_numeric], maxlen=max_sequence_len, padding='pre')\n",
        "    prediction = model.predict(sequence)[0]\n",
        "\n",
        "    # Get top N predictions\n",
        "    predicted_indices = np.argsort(prediction)[-num_songs:][::-1]\n",
        "\n",
        "    # Convert back to original track IDs\n",
        "    inverse_track_id_mapping = {v: k for k, v in track_id_mapping.items()}\n",
        "    return [inverse_track_id_mapping.get(idx) for idx in predicted_indices]\n",
        "\n",
        "# Example usage\n",
        "sample_session = ['TRZJGCC128F427A496', 'TRCZLTG128F9347CFD', 'TRUZAKI128F428F537', 'TRWBZHJ128F935A65A', 'TROEYTB128F4272F02']\n",
        "predicted_songs = predict_next_songs(sample_session, model, max_sequence_len, track_id_mapping, num_songs=5)\n",
        "\n",
        "# Assuming music_df is your dataset with columns ['track_id', 'name', 'artist', 'genre']\n",
        "# Map predicted songs to their details\n",
        "predicted_songs_details = music_df[music_df['track_id'].isin(predicted_songs)]\n",
        "print(predicted_songs_details)\n"
      ],
      "metadata": {
        "colab": {
          "base_uri": "https://localhost:8080/"
        },
        "id": "RV05Xrd3NajE",
        "outputId": "1bc52679-bea7-47ec-85e6-6deb9771e3c1"
      },
      "id": "RV05Xrd3NajE",
      "execution_count": null,
      "outputs": [
        {
          "output_type": "stream",
          "name": "stdout",
          "text": [
            "1/1 [==============================] - 0s 36ms/step\n",
            "       Unnamed: 0            track_id                                    name  \\\n",
            "12058       12058  TRTUQZE128F92E16C9  Pree-Sisters Swallowing a Donkey's Eye   \n",
            "18184       18184  TROHTYS128F9329D2A                             Sea Of Lies   \n",
            "20001       20001  TRVXKNP128F93437B4                           Common Dreads   \n",
            "20377       20377  TRYRIVU128F931F654                 The Beltsville Crucible   \n",
            "30149       30149  TRWWCUP128F42A51F0                              Aish Tamid   \n",
            "\n",
            "                   artist                                               tags  \\\n",
            "12058  Neutral Milk Hotel  indie, experimental, folk, indie_rock, instrum...   \n",
            "18184          Symphony X  progressive_rock, progressive_metal, power_met...   \n",
            "20001       Enter Shikari                            hardcore, post_hardcore   \n",
            "20377              Thrice  rock, hardcore, post_punk, emo, post_hardcore,...   \n",
            "30149           Matisyahu                                             reggae   \n",
            "\n",
            "        genre  year  duration_ms  danceability  energy  key  loudness  mode  \\\n",
            "12058    Rock  1996       829160        0.0721   0.239   11   -14.317     1   \n",
            "18184   Metal  1997       258626        0.4230   0.949    0    -6.693     0   \n",
            "20001     NaN  2009       127760        0.4580   0.382    5   -14.969     1   \n",
            "20377    Rock  2002       277906        0.4040   0.784    8    -8.244     1   \n",
            "30149  Reggae  2004       408133        0.7070   0.745   11    -5.056     0   \n",
            "\n",
            "       speechiness  acousticness  instrumentalness  liveness  valence    tempo  \n",
            "12058       0.0395      0.822000          0.942000     0.108   0.0395  178.488  \n",
            "18184       0.0700      0.001700          0.000461     0.178   0.3050  152.294  \n",
            "20001       0.2940      0.839000          0.000017     0.749   0.1990  112.740  \n",
            "20377       0.0527      0.000797          0.003700     0.287   0.1260  109.048  \n",
            "30149       0.1320      0.119000          0.000015     0.100   0.7490   81.992  \n"
          ]
        }
      ]
    },
    {
      "cell_type": "code",
      "source": [],
      "metadata": {
        "id": "O6OeMq62NhRn"
      },
      "id": "O6OeMq62NhRn",
      "execution_count": null,
      "outputs": []
    },
    {
      "cell_type": "code",
      "source": [
        "#lstm"
      ],
      "metadata": {
        "id": "-uXIsoXcO3F-"
      },
      "id": "-uXIsoXcO3F-",
      "execution_count": null,
      "outputs": []
    },
    {
      "cell_type": "code",
      "source": [],
      "metadata": {
        "id": "DD9rtlL0Pj-v"
      },
      "id": "DD9rtlL0Pj-v",
      "execution_count": null,
      "outputs": []
    },
    {
      "cell_type": "code",
      "source": [],
      "metadata": {
        "id": "D-AlSmwSPkP3"
      },
      "id": "D-AlSmwSPkP3",
      "execution_count": null,
      "outputs": []
    },
    {
      "cell_type": "code",
      "source": [],
      "metadata": {
        "id": "TwdXDaPJPlgi"
      },
      "id": "TwdXDaPJPlgi",
      "execution_count": null,
      "outputs": []
    },
    {
      "cell_type": "code",
      "source": [],
      "metadata": {
        "id": "hlGsR3rnPmam"
      },
      "id": "hlGsR3rnPmam",
      "execution_count": null,
      "outputs": []
    },
    {
      "cell_type": "code",
      "source": [],
      "metadata": {
        "id": "lxK1e_byPn79"
      },
      "id": "lxK1e_byPn79",
      "execution_count": null,
      "outputs": []
    }
  ],
  "metadata": {
    "kernelspec": {
      "display_name": "Python 3",
      "name": "python3"
    },
    "language_info": {
      "codemirror_mode": {
        "name": "ipython",
        "version": 3
      },
      "file_extension": ".py",
      "mimetype": "text/x-python",
      "name": "python",
      "nbconvert_exporter": "python",
      "pygments_lexer": "ipython3",
      "version": "3.8.8"
    },
    "colab": {
      "provenance": [],
      "gpuType": "T4"
    },
    "accelerator": "GPU"
  },
  "nbformat": 4,
  "nbformat_minor": 5
}